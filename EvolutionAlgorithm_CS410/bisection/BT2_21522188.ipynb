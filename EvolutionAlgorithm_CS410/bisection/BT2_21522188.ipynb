{
 "cells": [
  {
   "cell_type": "code",
   "execution_count": 141,
   "metadata": {},
   "outputs": [
    {
     "data": {
      "text/plain": [
       "device(type='cpu')"
      ]
     },
     "execution_count": 141,
     "metadata": {},
     "output_type": "execute_result"
    }
   ],
   "source": [
    "import warnings\n",
    "warnings.filterwarnings('ignore')\n",
    "%matplotlib inline\n",
    "import matplotlib.pyplot as plt\n",
    "import numpy as np\n",
    "# from tqdm.auto import tqdm\n",
    "from tqdm import tqdm\n",
    "import pandas as pd\n",
    "import torch\n",
    "from scipy import stats\n",
    "device = torch.device('cuda' if torch.cuda.is_available() else 'cpu')\n",
    "device"
   ]
  },
  {
   "cell_type": "code",
   "execution_count": 2,
   "metadata": {},
   "outputs": [],
   "source": [
    "student_id=21522188"
   ]
  },
  {
   "cell_type": "code",
   "execution_count": 3,
   "metadata": {},
   "outputs": [],
   "source": [
    "def initialize_population(num_individuals, num_variables, device=\"cpu\"):\n",
    "    \"\"\"\n",
    "    Khởi tạo quần thể gồm num_individuals cá thể. Mỗi cá thể có num_parameters biến.\n",
    "\n",
    "    Arguments:\n",
    "    num_individuals -- Số lượng cá thể\n",
    "    num_variables -- Số lượng biến\n",
    "\n",
    "    Returns:\n",
    "    pop -- Ma trận (num_individuals, num_variables ) chứa quần thể mới được khởi tạo ngẫu nhiên.\n",
    "    \"\"\"\n",
    "\n",
    "    pop = torch.randint(0, 2, (num_individuals, num_variables), device=device)\n",
    "\n",
    "    return pop\n",
    "\n",
    "\n",
    "# optimized for multithreading\n",
    "\n",
    "\n",
    "def crossover_uniform(pop):\n",
    "    \"\"\"\n",
    "    Hàm biến đổi tạo ra các cá thể con.\n",
    "\n",
    "    Arguments:\n",
    "    pop -- Quàn thể hiện tại.\n",
    "\n",
    "    Returns:\n",
    "    offspring -- Quần thể chứa các cá thể con được sinh ra.\n",
    "    \"\"\"\n",
    "    num_individuals, num_parameters = pop.shape\n",
    "\n",
    "    # Đảo ngẫu nhiên thứ tự các cá thể trong quần thể\n",
    "    indexes = torch.randperm(num_individuals, device=pop.device)\n",
    "    # (num_individuals, num_parameters)\n",
    "    pop = pop[indexes]\n",
    "\n",
    "    if num_individuals % 2 != 0:\n",
    "        pop = pop[:-1]\n",
    "        num_individuals -= 1\n",
    "\n",
    "    num_pairs = num_individuals // 2\n",
    "\n",
    "    # since np.concatenate is slow\n",
    "    # i.e.\n",
    "    # pop1      [0, 1, 2, 3,   4, 5, 6, 7]\n",
    "    # pop2      [4, 5, 6, 7,   0, 1, 2, 3]\n",
    "\n",
    "    # t         [0, 1, 2, 3,   0, 1, 2, 3]\n",
    "\n",
    "    # (num_individuals * num_parameters)\n",
    "    pop1 = pop.reshape(-1)\n",
    "    pop2 = pop.reshape((2, num_pairs, num_parameters)).flip(0).reshape((-1))\n",
    "\n",
    "    # (num_individuals * num_parameters)\n",
    "    t = (\n",
    "        torch.rand(num_pairs * num_parameters, device=pop.device)\n",
    "        .unsqueeze(0)\n",
    "        .expand((2, num_pairs * num_parameters))\n",
    "        .reshape((-1))\n",
    "    )\n",
    "\n",
    "    offsprings = torch.where(t < 0.5, pop1, pop2)\n",
    "\n",
    "    return offsprings.reshape((num_individuals, num_parameters))\n",
    "\n",
    "\n",
    "def crossover_SP(pop):\n",
    "    # single-point crossover\n",
    "\n",
    "    num_individuals, num_parameters = pop.shape\n",
    "\n",
    "    # Đảo ngẫu nhiên thứ tự các cá thể trong quần thể\n",
    "    indexes = torch.randperm(num_individuals, device=pop.device)\n",
    "    # (num_individuals, num_parameters)\n",
    "    pop = pop[indexes]\n",
    "\n",
    "    if num_individuals % 2 != 0:\n",
    "        pop = pop[:-1]\n",
    "        num_individuals -= 1\n",
    "\n",
    "    num_pairs = num_individuals // 2\n",
    "\n",
    "    # i.e.\n",
    "    # pop1,pop              [0, 1, 2, 3,   4, 5, 6, 7]\n",
    "    # pop2                  [4, 5, 6, 7,   0, 1, 2, 3]\n",
    "\n",
    "    # crossover_indices     [0, 1, 2, 3,   0, 1, 2, 3]\n",
    "\n",
    "    # (num_individuals, num_parameters)\n",
    "    # pop1 = pop\n",
    "    pop2 = (\n",
    "        pop.reshape((2, num_pairs, num_parameters))\n",
    "        .flip(0)\n",
    "        .reshape((num_individuals, num_parameters))\n",
    "    )\n",
    "\n",
    "    # crossover_indice for each pair\n",
    "    crossover_indices = torch.randint(1, num_parameters, (num_pairs,), device=pop.device)\n",
    "    # repeat for the second part\n",
    "    crossover_indices = (\n",
    "        crossover_indices.unsqueeze(0).expand((2, num_pairs)).reshape((-1))\n",
    "    )\n",
    "\n",
    "    # https://stackoverflow.com/questions/68400027/set-all-elements-left-to-index-to-one-right-of-index-to-zero-for-list-of-indice\n",
    "    offsprings = torch.where(\n",
    "        torch.arange(num_parameters, device=pop.device) < crossover_indices[:, None],\n",
    "        pop,\n",
    "        pop2,\n",
    "    )\n",
    "\n",
    "    return offsprings"
   ]
  },
  {
   "cell_type": "code",
   "execution_count": 4,
   "metadata": {},
   "outputs": [],
   "source": [
    "def onemax(pop):\n",
    "    return torch.sum(pop, dim=-1)\n",
    "\n",
    "\n",
    "def leadingone(pop):\n",
    "    first_items = pop[:, 0]\n",
    "    # indice of the first 0\n",
    "    first_idx = torch.argmin(pop, dim=-1)\n",
    "    return torch.where(first_idx == 0, first_items * (pop.shape[1]), first_idx)\n",
    "\n",
    "\n",
    "def trap(pop, nof_bits=5):\n",
    "    # assume num_parameters is divisible by nof_bits\n",
    "\n",
    "    # pop (num_individuals, num_parameters)\n",
    "    num_individuals, num_parameters = pop.shape\n",
    "\n",
    "    # (num_individuals, num_parameters//nof_bits )\n",
    "    t = pop.reshape((num_individuals, -1, nof_bits)).sum(axis=-1)\n",
    "\n",
    "    # (num_individuals, num_parameters//nof_bits )\n",
    "    values = torch.where(t < nof_bits, nof_bits - 1 - t, nof_bits)\n",
    "\n",
    "    # (num_individuals )\n",
    "    return values.sum(dim=-1)\n",
    "\n",
    "\n",
    "objective_funcs = {\n",
    "    \"Onemax\": onemax,\n",
    "    \"LeadingOne\": leadingone,\n",
    "    \"Concatenated Trap-5\": trap,\n",
    "}"
   ]
  },
  {
   "cell_type": "code",
   "execution_count": 5,
   "metadata": {},
   "outputs": [],
   "source": [
    "def tournament_selection(pop, pop_fitness, selection_size, tournament_size=4):\n",
    "    # pop (num_individuals, num_parameters)\n",
    "    num_individuals, num_parameters = pop.shape\n",
    "\n",
    "    uniform_dis = torch.ones((selection_size, num_individuals), device=pop.device)\n",
    "    # select tournament_size opponents from the population selection_size times\n",
    "    # (selection_size * tournament_size)\n",
    "    t_indices = uniform_dis.multinomial(\n",
    "        num_samples=tournament_size, replacement=False\n",
    "    ).flatten()\n",
    "\n",
    "    # fitness of each opponent\n",
    "    # (selection_size * tournament_size)\n",
    "    t_fitness = pop_fitness[t_indices]\n",
    "\n",
    "    # (selection_size, tournament_size)\n",
    "    t_fitness = t_fitness.reshape((selection_size, tournament_size))\n",
    "\n",
    "    # winner of each tournament\n",
    "    # (selection_size)\n",
    "    t_winners = torch.argmax(t_fitness, dim=1)\n",
    "\n",
    "    # convert to the actual indices of t_indices\n",
    "    t_winners = (\n",
    "        t_winners + torch.arange(selection_size, device=pop.device) * tournament_size\n",
    "    )\n",
    "\n",
    "    return t_indices[t_winners]"
   ]
  },
  {
   "cell_type": "code",
   "execution_count": 6,
   "metadata": {},
   "outputs": [],
   "source": [
    "def convergence(pop):\n",
    "    return (pop == pop[0]).all()\n",
    "\n",
    "\n",
    "def genetic_algorithm_pytorch(\n",
    "    objective=onemax,\n",
    "    num_individuals=32,\n",
    "    num_parameters=100,\n",
    "    seed=49,\n",
    "    use_uniform_crossover=True,\n",
    "    device=\"cpu\"\n",
    "):\n",
    "    torch.manual_seed(seed)\n",
    "\n",
    "    # (P)\n",
    "    pop = initialize_population(num_individuals, num_parameters, device=device)\n",
    "\n",
    "    pop_fitness = objective(pop)\n",
    "    num_evaluations = num_individuals\n",
    "\n",
    "    # best_fitness = []\n",
    "\n",
    "    selection_size = num_individuals\n",
    "\n",
    "    optimal_found = False\n",
    "\n",
    "    while not convergence(pop):\n",
    "        # best_fitness.append([num_evaluations, np.max(pop_fitness)])\n",
    "\n",
    "        # (O)\n",
    "        offspring = (\n",
    "            crossover_uniform(pop) if use_uniform_crossover else crossover_SP(pop)\n",
    "        )\n",
    "\n",
    "        offspring_fitness = objective(offspring)\n",
    "        num_evaluations += len(offspring)\n",
    "\n",
    "        # (P+O)\n",
    "        pop_off = torch.vstack([pop, offspring])\n",
    "        pop_off_fitness = torch.concatenate((pop_fitness, offspring_fitness))\n",
    "\n",
    "        # tournament selection will have a constant tournament_size of 4\n",
    "        # select N individuals from (P+O) 2N\n",
    "        # selected_indices is not sorted by fitness\n",
    "        selected_indices = tournament_selection(\n",
    "            pop_off, pop_off_fitness, selection_size\n",
    "        )\n",
    "\n",
    "        pop = pop_off[selected_indices]\n",
    "        pop_fitness = pop_off_fitness[selected_indices]\n",
    "\n",
    "        if (pop_fitness == num_parameters).any():\n",
    "            optimal_found = True\n",
    "            break\n",
    "\n",
    "    # best_fitness.append([num_evaluations, np.max(pop_fitness)])\n",
    "\n",
    "    return optimal_found, num_evaluations\n"
   ]
  },
  {
   "cell_type": "code",
   "execution_count": 7,
   "metadata": {},
   "outputs": [],
   "source": [
    "def genetic_algorithm(\n",
    "    objective=onemax,\n",
    "    num_individuals=32,\n",
    "    num_parameters=100,\n",
    "    seed=49,\n",
    "    use_uniform_crossover=True,\n",
    "    device=None,\n",
    "):\n",
    "    if device == None:\n",
    "        # just use cuda\n",
    "        device = torch.device('cuda' if torch.cuda.is_available() else 'cpu')\n",
    "        # if num_individuals > 64:\n",
    "        #     device = torch.device('cuda' if torch.cuda.is_available() else 'cpu')\n",
    "        # else:\n",
    "        #     device = torch.device(\"cpu\")\n",
    "            \n",
    "    \n",
    "    return genetic_algorithm_pytorch(\n",
    "        objective=objective,\n",
    "        num_individuals=num_individuals,\n",
    "        num_parameters=num_parameters,\n",
    "        seed=seed,\n",
    "        use_uniform_crossover=use_uniform_crossover,\n",
    "        device=device\n",
    "    )"
   ]
  },
  {
   "cell_type": "code",
   "execution_count": 8,
   "metadata": {},
   "outputs": [
    {
     "data": {
      "text/plain": [
       "(False, 608)"
      ]
     },
     "execution_count": 8,
     "metadata": {},
     "output_type": "execute_result"
    }
   ],
   "source": [
    "genetic_algorithm()"
   ]
  },
  {
   "cell_type": "markdown",
   "metadata": {},
   "source": [
    "# Bisection"
   ]
  },
  {
   "cell_type": "code",
   "execution_count": 9,
   "metadata": {},
   "outputs": [],
   "source": [
    "def test_multiple(\n",
    "    objective_func=\"Onemax\",\n",
    "    n_trials=10,\n",
    "    num_individuals = 32,\n",
    "    num_parameters=100,\n",
    "    init_seed=student_id,\n",
    "    use_uniform_crossover=True,\n",
    "    device = None\n",
    "):\n",
    "    assert objective_func in objective_funcs.keys()\n",
    "\n",
    "    success = True\n",
    "    nums_evaluations = []\n",
    "\n",
    "    for i in range(n_trials):\n",
    "        optimal_found, num_evaluations = genetic_algorithm(\n",
    "            objective=objective_funcs[objective_func],\n",
    "            num_individuals=num_individuals,\n",
    "            num_parameters=num_parameters,\n",
    "            seed=init_seed + i,\n",
    "            use_uniform_crossover=use_uniform_crossover,\n",
    "            device=device\n",
    "        )\n",
    "\n",
    "        nums_evaluations.append(num_evaluations)\n",
    "\n",
    "        if not optimal_found:\n",
    "            success = False\n",
    "            break\n",
    "    \n",
    "    if success:\n",
    "        return True, nums_evaluations\n",
    "    \n",
    "    return False, nums_evaluations"
   ]
  },
  {
   "cell_type": "code",
   "execution_count": 10,
   "metadata": {},
   "outputs": [],
   "source": [
    "def find_upper_bound(\n",
    "    objective_func=\"Onemax\",\n",
    "    n_trials=10,\n",
    "    num_parameters=100,\n",
    "    init_seed=student_id,\n",
    "    use_uniform_crossover=True,\n",
    "    upper_bound_limit=2**13,\n",
    "    device = None\n",
    "):\n",
    "    assert objective_func in objective_funcs.keys()\n",
    "\n",
    "    upper_bound = 4\n",
    "\n",
    "    nums_evaluations = []\n",
    "\n",
    "    while True:\n",
    "        success, nums_evaluations = test_multiple(\n",
    "            objective_func=objective_func,\n",
    "            n_trials=n_trials,\n",
    "            num_individuals=upper_bound,\n",
    "            num_parameters=num_parameters,\n",
    "            init_seed=init_seed,\n",
    "            use_uniform_crossover=use_uniform_crossover,\n",
    "            device=device\n",
    "        )\n",
    "\n",
    "        if success:\n",
    "            break\n",
    "\n",
    "        upper_bound *= 2\n",
    "\n",
    "        if upper_bound > upper_bound_limit:\n",
    "            return False, upper_bound, nums_evaluations\n",
    "\n",
    "    # success, upper_bound\n",
    "    return True , upper_bound, nums_evaluations"
   ]
  },
  {
   "cell_type": "code",
   "execution_count": 11,
   "metadata": {},
   "outputs": [
    {
     "name": "stdout",
     "output_type": "stream",
     "text": [
      "CPU times: user 53.5 ms, sys: 203 µs, total: 53.7 ms\n",
      "Wall time: 52.8 ms\n"
     ]
    },
    {
     "data": {
      "text/plain": [
       "(True, 32, [128, 160, 160, 96, 64, 192, 128, 160, 128, 160])"
      ]
     },
     "execution_count": 11,
     "metadata": {},
     "output_type": "execute_result"
    }
   ],
   "source": [
    "%time find_upper_bound(num_parameters=10)"
   ]
  },
  {
   "cell_type": "code",
   "execution_count": 12,
   "metadata": {},
   "outputs": [],
   "source": [
    "def find_MRPS(\n",
    "    objective_func=\"Onemax\",\n",
    "    n_trials=10,\n",
    "    num_parameters=100,\n",
    "    init_seed=student_id,\n",
    "    use_uniform_crossover=True,\n",
    "    upper_bound_limit=2**13,\n",
    "    device = None\n",
    "):\n",
    "    assert objective_func in objective_funcs.keys()\n",
    "\n",
    "    success, upper_bound, nums_evaluations = find_upper_bound(\n",
    "        objective_func=objective_func,\n",
    "        n_trials=n_trials,\n",
    "        num_parameters=num_parameters,\n",
    "        init_seed=init_seed,\n",
    "        use_uniform_crossover=use_uniform_crossover,\n",
    "        upper_bound_limit=upper_bound_limit,\n",
    "        device = device\n",
    "    )\n",
    "\n",
    "    if not success:\n",
    "        return None, None\n",
    "\n",
    "    lower_bound = upper_bound // 2\n",
    "\n",
    "    while (upper_bound - lower_bound) / float(upper_bound) > 0.1:\n",
    "        mid = int((upper_bound + lower_bound) // 2)\n",
    "\n",
    "        success, n_evals = test_multiple(\n",
    "            objective_func=objective_func,\n",
    "            n_trials=n_trials,\n",
    "            num_individuals=mid,\n",
    "            num_parameters=num_parameters,\n",
    "            init_seed=init_seed,\n",
    "            use_uniform_crossover=use_uniform_crossover,\n",
    "            device = device\n",
    "        )\n",
    "\n",
    "        if success:\n",
    "            upper_bound = mid\n",
    "            nums_evaluations = n_evals\n",
    "        else:\n",
    "            lower_bound = mid\n",
    "\n",
    "        if (upper_bound - lower_bound) <= 2:\n",
    "            break\n",
    "\n",
    "    # avg_evals = np.average(nums_evaluations) if len(nums_evaluations) != 0 else 0\n",
    "    avg_evals = np.average(nums_evaluations)\n",
    "\n",
    "    return upper_bound, avg_evals"
   ]
  },
  {
   "cell_type": "code",
   "execution_count": 13,
   "metadata": {},
   "outputs": [
    {
     "name": "stdout",
     "output_type": "stream",
     "text": [
      "CPU times: user 763 ms, sys: 0 ns, total: 763 ms\n",
      "Wall time: 762 ms\n"
     ]
    },
    {
     "data": {
      "text/plain": [
       "(352, 12531.2)"
      ]
     },
     "execution_count": 13,
     "metadata": {},
     "output_type": "execute_result"
    }
   ],
   "source": [
    "%time find_MRPS(num_parameters=300)"
   ]
  },
  {
   "cell_type": "code",
   "execution_count": 14,
   "metadata": {},
   "outputs": [],
   "source": [
    "def bisection(\n",
    "    objective_func=\"Onemax\",\n",
    "    n_trials=10,\n",
    "    num_parameters=100,\n",
    "    init_seed=student_id,\n",
    "    use_uniform_crossover=True,\n",
    "    upper_bound_limit=2**13,\n",
    "    device = None\n",
    "):\n",
    "    MRPS = []\n",
    "    avgs_evals = []\n",
    "\n",
    "    # 10 Bisections\n",
    "    for i in tqdm(range(10)):\n",
    "        upper, avg = find_MRPS(\n",
    "            objective_func=objective_func,\n",
    "            n_trials=n_trials,\n",
    "            num_parameters=num_parameters,\n",
    "            init_seed=init_seed + i*10,\n",
    "            use_uniform_crossover=use_uniform_crossover,\n",
    "            upper_bound_limit=upper_bound_limit,\n",
    "            device = device\n",
    "        )\n",
    "        if upper is None:\n",
    "            return [], []\n",
    "        \n",
    "        MRPS.append(upper)\n",
    "        avgs_evals.append(avg)\n",
    "    return MRPS, avgs_evals"
   ]
  },
  {
   "cell_type": "code",
   "execution_count": 15,
   "metadata": {},
   "outputs": [],
   "source": [
    "l = [10, 20, 40, 80, 160]  # problem size\n",
    "\n",
    "res = {}\n",
    "\n",
    "for k in [\"Onemax\", \"trap\", \"LeadingOnes\"]:\n",
    "    res[k] = {\n",
    "        \"uniform\": {\"MRPS\": [], \"avgs_evals\": []},\n",
    "        \"SP\": {\"MRPS\": [], \"avgs_evals\": []},\n",
    "    }"
   ]
  },
  {
   "cell_type": "markdown",
   "metadata": {},
   "source": [
    "# Onemax\n",
    "uniform_crossover"
   ]
  },
  {
   "cell_type": "code",
   "execution_count": 16,
   "metadata": {},
   "outputs": [
    {
     "name": "stdout",
     "output_type": "stream",
     "text": [
      "Problem size: 10\n"
     ]
    },
    {
     "name": "stderr",
     "output_type": "stream",
     "text": [
      "100%|██████████| 10/10 [00:00<00:00, 11.00it/s]\n"
     ]
    },
    {
     "name": "stdout",
     "output_type": "stream",
     "text": [
      "Problem size: 20\n"
     ]
    },
    {
     "name": "stderr",
     "output_type": "stream",
     "text": [
      "100%|██████████| 10/10 [00:01<00:00,  6.39it/s]\n"
     ]
    },
    {
     "name": "stdout",
     "output_type": "stream",
     "text": [
      "Problem size: 40\n"
     ]
    },
    {
     "name": "stderr",
     "output_type": "stream",
     "text": [
      "100%|██████████| 10/10 [00:02<00:00,  3.89it/s]\n"
     ]
    },
    {
     "name": "stdout",
     "output_type": "stream",
     "text": [
      "Problem size: 80\n"
     ]
    },
    {
     "name": "stderr",
     "output_type": "stream",
     "text": [
      "100%|██████████| 10/10 [00:03<00:00,  2.70it/s]\n"
     ]
    },
    {
     "name": "stdout",
     "output_type": "stream",
     "text": [
      "Problem size: 160\n"
     ]
    },
    {
     "name": "stderr",
     "output_type": "stream",
     "text": [
      "100%|██████████| 10/10 [00:05<00:00,  1.72it/s]"
     ]
    },
    {
     "name": "stdout",
     "output_type": "stream",
     "text": [
      "CPU times: user 14.6 s, sys: 33.6 ms, total: 14.6 s\n",
      "Wall time: 14.6 s\n"
     ]
    },
    {
     "name": "stderr",
     "output_type": "stream",
     "text": [
      "\n"
     ]
    }
   ],
   "source": [
    "%%time\n",
    "\n",
    "for i in l:\n",
    "    print(f\"Problem size: {i}\")\n",
    "    MRPS, avgs_evals = bisection(\n",
    "        objective_func=\"Onemax\",\n",
    "        n_trials=10,\n",
    "        num_parameters=i,\n",
    "        init_seed=student_id,\n",
    "        use_uniform_crossover=True,\n",
    "        upper_bound_limit=2**13,\n",
    "        device=None\n",
    "    )\n",
    "    if len(MRPS) == 0:\n",
    "        print(f\"8192 population_size exceeded\")\n",
    "        break\n",
    "    res[\"Onemax\"][\"uniform\"][\"MRPS\"].append(MRPS)\n",
    "    res[\"Onemax\"][\"uniform\"][\"avgs_evals\"].append(\n",
    "        avgs_evals\n",
    "    )"
   ]
  },
  {
   "cell_type": "code",
   "execution_count": 17,
   "metadata": {},
   "outputs": [],
   "source": [
    "np.save(\"results.npy\", res)"
   ]
  },
  {
   "cell_type": "code",
   "execution_count": 18,
   "metadata": {},
   "outputs": [
    {
     "name": "stdout",
     "output_type": "stream",
     "text": [
      "Problem size: 10\n"
     ]
    },
    {
     "name": "stderr",
     "output_type": "stream",
     "text": [
      "100%|██████████| 10/10 [00:01<00:00,  9.97it/s]\n"
     ]
    },
    {
     "name": "stdout",
     "output_type": "stream",
     "text": [
      "Problem size: 20\n"
     ]
    },
    {
     "name": "stderr",
     "output_type": "stream",
     "text": [
      "100%|██████████| 10/10 [00:01<00:00,  5.56it/s]\n"
     ]
    },
    {
     "name": "stdout",
     "output_type": "stream",
     "text": [
      "Problem size: 40\n"
     ]
    },
    {
     "name": "stderr",
     "output_type": "stream",
     "text": [
      "100%|██████████| 10/10 [00:03<00:00,  2.97it/s]\n"
     ]
    },
    {
     "name": "stdout",
     "output_type": "stream",
     "text": [
      "Problem size: 80\n"
     ]
    },
    {
     "name": "stderr",
     "output_type": "stream",
     "text": [
      "100%|██████████| 10/10 [00:06<00:00,  1.63it/s]\n"
     ]
    },
    {
     "name": "stdout",
     "output_type": "stream",
     "text": [
      "Problem size: 160\n"
     ]
    },
    {
     "name": "stderr",
     "output_type": "stream",
     "text": [
      "100%|██████████| 10/10 [00:41<00:00,  4.11s/it]"
     ]
    },
    {
     "name": "stdout",
     "output_type": "stream",
     "text": [
      "CPU times: user 53.4 s, sys: 47.5 ms, total: 53.4 s\n",
      "Wall time: 53.4 s\n"
     ]
    },
    {
     "name": "stderr",
     "output_type": "stream",
     "text": [
      "\n"
     ]
    }
   ],
   "source": [
    "%%time\n",
    "\n",
    "for i in l:\n",
    "    print(f\"Problem size: {i}\")\n",
    "    MRPS, avgs_evals = bisection(\n",
    "        objective_func=\"Onemax\",\n",
    "        n_trials=10,\n",
    "        num_parameters=i,\n",
    "        init_seed=student_id,\n",
    "        use_uniform_crossover=False,\n",
    "        upper_bound_limit=2**13,\n",
    "        device=None\n",
    "    )\n",
    "    if len(MRPS) == 0:\n",
    "        print(f\"8192 population_size exceeded\")\n",
    "        break\n",
    "    res[\"Onemax\"][\"SP\"][\"MRPS\"].append(MRPS)\n",
    "    res[\"Onemax\"][\"SP\"][\"avgs_evals\"].append(\n",
    "        avgs_evals\n",
    "    )"
   ]
  },
  {
   "cell_type": "code",
   "execution_count": 19,
   "metadata": {},
   "outputs": [],
   "source": [
    "np.save(\"results.npy\", res)\n"
   ]
  },
  {
   "cell_type": "markdown",
   "metadata": {},
   "source": [
    "# Trap k=5\n",
    "uniform_crossover"
   ]
  },
  {
   "cell_type": "code",
   "execution_count": 20,
   "metadata": {},
   "outputs": [
    {
     "name": "stdout",
     "output_type": "stream",
     "text": [
      "Problem size: 10\n"
     ]
    },
    {
     "name": "stderr",
     "output_type": "stream",
     "text": [
      "100%|██████████| 10/10 [00:01<00:00,  9.19it/s]\n"
     ]
    },
    {
     "name": "stdout",
     "output_type": "stream",
     "text": [
      "Problem size: 20\n"
     ]
    },
    {
     "name": "stderr",
     "output_type": "stream",
     "text": [
      "100%|██████████| 10/10 [00:17<00:00,  1.71s/it]\n"
     ]
    },
    {
     "name": "stdout",
     "output_type": "stream",
     "text": [
      "Problem size: 40\n"
     ]
    },
    {
     "name": "stderr",
     "output_type": "stream",
     "text": [
      "  0%|          | 0/10 [00:00<?, ?it/s]"
     ]
    },
    {
     "name": "stdout",
     "output_type": "stream",
     "text": [
      "8192 population_size exceeded\n",
      "CPU times: user 18.6 s, sys: 23.9 ms, total: 18.7 s\n",
      "Wall time: 18.7 s\n"
     ]
    },
    {
     "name": "stderr",
     "output_type": "stream",
     "text": [
      "\n"
     ]
    }
   ],
   "source": [
    "%%time\n",
    "\n",
    "for i in l:\n",
    "    print(f\"Problem size: {i}\")\n",
    "    MRPS, avgs_evals = bisection(\n",
    "        objective_func=\"Concatenated Trap-5\",\n",
    "        n_trials=10,\n",
    "        num_parameters=i,\n",
    "        init_seed=student_id,\n",
    "        use_uniform_crossover=True,\n",
    "        upper_bound_limit=2**13,\n",
    "        device=None\n",
    "    )\n",
    "    if len(MRPS) == 0:\n",
    "        print(f\"8192 population_size exceeded\")\n",
    "        break\n",
    "    res[\"trap\"][\"uniform\"][\"MRPS\"].append(MRPS)\n",
    "    res[\"trap\"][\"uniform\"][\"avgs_evals\"].append(\n",
    "        avgs_evals\n",
    "    )"
   ]
  },
  {
   "cell_type": "code",
   "execution_count": 21,
   "metadata": {},
   "outputs": [],
   "source": [
    "np.save(\"results.npy\", res)"
   ]
  },
  {
   "cell_type": "code",
   "execution_count": 22,
   "metadata": {},
   "outputs": [
    {
     "name": "stdout",
     "output_type": "stream",
     "text": [
      "Problem size: 10\n"
     ]
    },
    {
     "name": "stderr",
     "output_type": "stream",
     "text": [
      "100%|██████████| 10/10 [00:00<00:00, 11.29it/s]\n"
     ]
    },
    {
     "name": "stdout",
     "output_type": "stream",
     "text": [
      "Problem size: 20\n"
     ]
    },
    {
     "name": "stderr",
     "output_type": "stream",
     "text": [
      "100%|██████████| 10/10 [00:01<00:00,  5.19it/s]\n"
     ]
    },
    {
     "name": "stdout",
     "output_type": "stream",
     "text": [
      "Problem size: 40\n"
     ]
    },
    {
     "name": "stderr",
     "output_type": "stream",
     "text": [
      "100%|██████████| 10/10 [00:04<00:00,  2.34it/s]\n"
     ]
    },
    {
     "name": "stdout",
     "output_type": "stream",
     "text": [
      "Problem size: 80\n"
     ]
    },
    {
     "name": "stderr",
     "output_type": "stream",
     "text": [
      "100%|██████████| 10/10 [00:27<00:00,  2.77s/it]\n"
     ]
    },
    {
     "name": "stdout",
     "output_type": "stream",
     "text": [
      "Problem size: 160\n"
     ]
    },
    {
     "name": "stderr",
     "output_type": "stream",
     "text": [
      "  0%|          | 0/10 [00:00<?, ?it/s]"
     ]
    },
    {
     "name": "stdout",
     "output_type": "stream",
     "text": [
      "8192 population_size exceeded\n",
      "CPU times: user 35.5 s, sys: 19.9 ms, total: 35.5 s\n",
      "Wall time: 35.5 s\n"
     ]
    },
    {
     "name": "stderr",
     "output_type": "stream",
     "text": [
      "\n"
     ]
    }
   ],
   "source": [
    "%%time\n",
    "\n",
    "for i in l:\n",
    "    print(f\"Problem size: {i}\")\n",
    "    MRPS, avgs_evals = bisection(\n",
    "        objective_func=\"Concatenated Trap-5\",\n",
    "        n_trials=10,\n",
    "        num_parameters=i,\n",
    "        init_seed=student_id,\n",
    "        use_uniform_crossover=False,\n",
    "        upper_bound_limit=2**13,\n",
    "        device=None\n",
    "    )\n",
    "    if len(MRPS) == 0:\n",
    "        print(f\"8192 population_size exceeded\")\n",
    "        break\n",
    "    res[\"trap\"][\"SP\"][\"MRPS\"].append(MRPS)\n",
    "    res[\"trap\"][\"SP\"][\"avgs_evals\"].append(\n",
    "        avgs_evals\n",
    "    )"
   ]
  },
  {
   "cell_type": "code",
   "execution_count": 23,
   "metadata": {},
   "outputs": [],
   "source": [
    "np.save(\"results.npy\", res)\n"
   ]
  },
  {
   "cell_type": "markdown",
   "metadata": {},
   "source": [
    "# LeadingOnes\n",
    "uniform_crossover"
   ]
  },
  {
   "cell_type": "code",
   "execution_count": 24,
   "metadata": {},
   "outputs": [
    {
     "name": "stdout",
     "output_type": "stream",
     "text": [
      "Problem size: 10\n"
     ]
    },
    {
     "name": "stderr",
     "output_type": "stream",
     "text": [
      "100%|██████████| 10/10 [00:01<00:00,  5.23it/s]\n"
     ]
    },
    {
     "name": "stdout",
     "output_type": "stream",
     "text": [
      "Problem size: 20\n"
     ]
    },
    {
     "name": "stderr",
     "output_type": "stream",
     "text": [
      "100%|██████████| 10/10 [00:10<00:00,  1.08s/it]\n"
     ]
    },
    {
     "name": "stdout",
     "output_type": "stream",
     "text": [
      "Problem size: 40\n"
     ]
    },
    {
     "name": "stderr",
     "output_type": "stream",
     "text": [
      "100%|██████████| 10/10 [00:32<00:00,  3.22s/it]\n"
     ]
    },
    {
     "name": "stdout",
     "output_type": "stream",
     "text": [
      "Problem size: 80\n"
     ]
    },
    {
     "name": "stderr",
     "output_type": "stream",
     "text": [
      "100%|██████████| 10/10 [04:49<00:00, 28.93s/it]\n"
     ]
    },
    {
     "name": "stdout",
     "output_type": "stream",
     "text": [
      "Problem size: 160\n"
     ]
    },
    {
     "name": "stderr",
     "output_type": "stream",
     "text": [
      "  0%|          | 0/10 [08:21<?, ?it/s]"
     ]
    },
    {
     "name": "stdout",
     "output_type": "stream",
     "text": [
      "8192 population_size exceeded\n",
      "CPU times: user 13min 55s, sys: 340 ms, total: 13min 55s\n",
      "Wall time: 13min 55s\n"
     ]
    },
    {
     "name": "stderr",
     "output_type": "stream",
     "text": [
      "\n"
     ]
    }
   ],
   "source": [
    "%%time\n",
    "\n",
    "for i in l:\n",
    "    print(f\"Problem size: {i}\")\n",
    "    MRPS, avgs_evals = bisection(\n",
    "        objective_func=\"LeadingOne\",\n",
    "        n_trials=10,\n",
    "        num_parameters=i,\n",
    "        init_seed=student_id,\n",
    "        use_uniform_crossover=True,\n",
    "        upper_bound_limit=2**13,\n",
    "        device=None\n",
    "    )\n",
    "    if len(MRPS) == 0:\n",
    "        print(f\"8192 population_size exceeded\")\n",
    "        break\n",
    "    res[\"LeadingOnes\"][\"uniform\"][\"MRPS\"].append(MRPS)\n",
    "    res[\"LeadingOnes\"][\"uniform\"][\"avgs_evals\"].append(\n",
    "        avgs_evals\n",
    "    )"
   ]
  },
  {
   "cell_type": "code",
   "execution_count": 25,
   "metadata": {},
   "outputs": [],
   "source": [
    "np.save(\"results.npy\", res)"
   ]
  },
  {
   "cell_type": "code",
   "execution_count": 26,
   "metadata": {},
   "outputs": [
    {
     "name": "stdout",
     "output_type": "stream",
     "text": [
      "Problem size: 10\n"
     ]
    },
    {
     "name": "stderr",
     "output_type": "stream",
     "text": [
      "100%|██████████| 10/10 [00:02<00:00,  4.01it/s]\n"
     ]
    },
    {
     "name": "stdout",
     "output_type": "stream",
     "text": [
      "Problem size: 20\n"
     ]
    },
    {
     "name": "stderr",
     "output_type": "stream",
     "text": [
      "100%|██████████| 10/10 [00:17<00:00,  1.72s/it]\n"
     ]
    },
    {
     "name": "stdout",
     "output_type": "stream",
     "text": [
      "Problem size: 40\n"
     ]
    },
    {
     "name": "stderr",
     "output_type": "stream",
     "text": [
      " 30%|███       | 3/10 [02:46<06:28, 55.45s/it]"
     ]
    },
    {
     "name": "stdout",
     "output_type": "stream",
     "text": [
      "8192 population_size exceeded\n",
      "CPU times: user 3min 5s, sys: 56 ms, total: 3min 6s\n",
      "Wall time: 3min 6s\n"
     ]
    },
    {
     "name": "stderr",
     "output_type": "stream",
     "text": [
      "\n"
     ]
    }
   ],
   "source": [
    "%%time\n",
    "\n",
    "for i in l:\n",
    "    print(f\"Problem size: {i}\")\n",
    "    MRPS, avgs_evals = bisection(\n",
    "        objective_func=\"LeadingOne\",\n",
    "        n_trials=10,\n",
    "        num_parameters=i,\n",
    "        init_seed=student_id,\n",
    "        use_uniform_crossover=False,\n",
    "        upper_bound_limit=2**13,\n",
    "        device=None\n",
    "    )\n",
    "    if len(MRPS) == 0:\n",
    "        print(f\"8192 population_size exceeded\")\n",
    "        break\n",
    "    res[\"LeadingOnes\"][\"SP\"][\"MRPS\"].append(MRPS)\n",
    "    res[\"LeadingOnes\"][\"SP\"][\"avgs_evals\"].append(\n",
    "        avgs_evals\n",
    "    )"
   ]
  },
  {
   "cell_type": "code",
   "execution_count": 27,
   "metadata": {},
   "outputs": [],
   "source": [
    "np.save(\"results.npy\", res)\n"
   ]
  },
  {
   "cell_type": "markdown",
   "metadata": {},
   "source": [
    "# Results"
   ]
  },
  {
   "cell_type": "code",
   "execution_count": 111,
   "metadata": {},
   "outputs": [],
   "source": [
    "res = np.load(\"results.npy\", allow_pickle=True).tolist()\n",
    "\n",
    "for k in res.keys():\n",
    "    for a in [\"uniform\", \"SP\"]:\n",
    "        for vk in [\"MRPS\", \"avgs_evals\"]:\n",
    "            mean = []\n",
    "            std = []\n",
    "            for i, v in enumerate(res[k][a][vk]):\n",
    "                mean.append(round(np.mean(v), 1))\n",
    "                std.append(round(np.std(v), 1))\n",
    "            res[k][a][vk] = [\n",
    "                mean,\n",
    "                std\n",
    "            ]"
   ]
  },
  {
   "cell_type": "code",
   "execution_count": 97,
   "metadata": {},
   "outputs": [],
   "source": [
    "def plot_res(uniform_res, SP_res, ylabel=\"\", axes=None):\n",
    "    if len(uniform_res) == 0 or len(SP_res) == 0:\n",
    "        return\n",
    "    l = [10, 20, 40, 80, 160]\n",
    "\n",
    "    mean_uniform_res = uniform_res[0]\n",
    "    std_uniform_res = uniform_res[1]\n",
    "\n",
    "    mean_SP_res = SP_res[0]\n",
    "    std_SP_res = SP_res[1]\n",
    "\n",
    "    axes.errorbar(l[:len(mean_uniform_res)], mean_uniform_res, yerr=std_uniform_res, color=\"r\", fmt=\"-0\", label=\"uniform crossover\")\n",
    "    axes.errorbar(l[:len(mean_SP_res)], mean_SP_res, yerr=std_SP_res, fmt=\"-0\",color=\"b\", label=\"single-point crossover\")\n",
    "\n",
    "    axes.set_yscale(\"log\", base=10)\n",
    "    axes.set_xscale(\"log\", base=2)\n",
    "    axes.set_xlabel(\"Problem Size\")\n",
    "    axes.set_ylabel(ylabel)\n",
    "\n",
    "    length = max(len(mean_uniform_res), len(mean_SP_res))\n",
    "    axes.set_xticks(ticks = l[:length], labels = [str(s) for s in l[:length]])\n",
    "    axes.legend()\n"
   ]
  },
  {
   "cell_type": "code",
   "execution_count": 108,
   "metadata": {},
   "outputs": [
    {
     "data": {
      "image/png": "[encoded data removed]",
      "text/plain": [
       "<Figure size 1000x300 with 2 Axes>"
      ]
     },
     "metadata": {},
     "output_type": "display_data"
    },
    {
     "data": {
      "image/png": "[encoded data removed]",
      "text/plain": [
       "<Figure size 1000x300 with 2 Axes>"
      ]
     },
     "metadata": {},
     "output_type": "display_data"
    },
    {
     "data": {
      "image/png": "[encoded data removed]",
      "text/plain": [
       "<Figure size 1000x300 with 2 Axes>"
      ]
     },
     "metadata": {},
     "output_type": "display_data"
    }
   ],
   "source": [
    "for t in res.keys():\n",
    "    fig, ax = plt.subplots(nrows=1, ncols=2, figsize=(10, 3))\n",
    "    ax[0].set_title(t)\n",
    "    plot_res(\n",
    "        res[t][\"uniform\"][\"MRPS\"],\n",
    "        res[t][\"SP\"][\"MRPS\"],\n",
    "        \"MRPS\",\n",
    "        ax[0]\n",
    "    )\n",
    "    plot_res(\n",
    "        res[t][\"uniform\"][\"avgs_evals\"],\n",
    "        res[t][\"SP\"][\"avgs_evals\"],\n",
    "        \"number of evaluations\",\n",
    "        ax[1]\n",
    "    )\n",
    "    plt.show()\n"
   ]
  },
  {
   "cell_type": "code",
   "execution_count": 137,
   "metadata": {},
   "outputs": [],
   "source": [
    "def to_csv(uni_res, SP_res):\n",
    "\n",
    "    l = [10, 20, 40, 80, 160]\n",
    "    data = []\n",
    "\n",
    "    for i, l in enumerate(l):\n",
    "        \n",
    "        # problem_size, mrps, num_evals\n",
    "        row = [None] * 5\n",
    "        row[0] = l\n",
    "        \n",
    "        if i < len(uni_res[\"MRPS\"][0]):\n",
    "            # mean (std)\n",
    "            row[1] = f\"{uni_res['MRPS'][0][i]} ({uni_res['MRPS'][1][i]})\"\n",
    "\n",
    "            row[2] = f\"{uni_res['avgs_evals'][0][i]} ({uni_res['avgs_evals'][1][i]})\"\n",
    "        \n",
    "        if i < len(SP_res[\"MRPS\"][0]):\n",
    "            # mean (std)\n",
    "            row[3] = f\"{SP_res['MRPS'][0][i]} ({SP_res['MRPS'][1][i]})\"\n",
    "\n",
    "            row[4] = f\"{SP_res['avgs_evals'][0][i]} ({SP_res['avgs_evals'][1][i]})\"\n",
    "\n",
    "        data.append(row)\n",
    "\n",
    "\n",
    "    return pd.DataFrame(\n",
    "        data,\n",
    "        columns=[\n",
    "            \"Problem size\",\n",
    "            \"MRPS ux\",\n",
    "            \"# Evaluations ux\",\n",
    "            \"MRPS 1x\",\n",
    "            \"# Evaluations 1x\"\n",
    "        ],\n",
    "    )\n",
    "\n"
   ]
  },
  {
   "cell_type": "code",
   "execution_count": 138,
   "metadata": {},
   "outputs": [],
   "source": [
    "for t in res.keys():\n",
    "    df = to_csv(\n",
    "        res[t][\"uniform\"],\n",
    "        res[t][\"SP\"],\n",
    "    )\n",
    "    df.to_csv(f'{t}.csv', index=False)"
   ]
  }
 ],
 "metadata": {
  "kernelspec": {
   "display_name": "Python 3 (ipykernel)",
   "language": "python",
   "name": "python3"
  },
  "language_info": {
   "codemirror_mode": {
    "name": "ipython",
    "version": 3
   },
   "file_extension": ".py",
   "mimetype": "text/x-python",
   "name": "python",
   "nbconvert_exporter": "python",
   "pygments_lexer": "ipython3",
   "version": "3.11.8"
  }
 },
 "nbformat": 4,
 "nbformat_minor": 4
}
