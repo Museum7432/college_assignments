{
 "cells": [
  {
   "cell_type": "code",
   "execution_count": 1,
   "metadata": {},
   "outputs": [
    {
     "data": {
      "text/plain": [
       "device(type='cuda')"
      ]
     },
     "execution_count": 1,
     "metadata": {},
     "output_type": "execute_result"
    }
   ],
   "source": [
    "import warnings\n",
    "warnings.filterwarnings('ignore')\n",
    "%matplotlib inline\n",
    "import matplotlib.pyplot as plt\n",
    "import numpy as np\n",
    "# from tqdm.auto import tqdm\n",
    "from tqdm import tqdm\n",
    "import pandas as pd\n",
    "import torch\n",
    "from scipy import stats\n",
    "device = torch.device('cuda' if torch.cuda.is_available() else 'cpu')\n",
    "device"
   ]
  },
  {
   "cell_type": "code",
   "execution_count": 2,
   "metadata": {},
   "outputs": [],
   "source": [
    "student_id = 21522188"
   ]
  },
  {
   "cell_type": "markdown",
   "metadata": {},
   "source": [
    "# Objective Functions"
   ]
  },
  {
   "cell_type": "code",
   "execution_count": 3,
   "metadata": {},
   "outputs": [],
   "source": [
    "def f1(pop):\n",
    "    \"\"\"Sphere Function\"\"\"\n",
    "    return (pop**2).sum(-1)\n",
    "\n",
    "\n",
    "def f2(pop):\n",
    "    \"Griewank Function\"\n",
    "    pop_size, d = pop.shape\n",
    "\n",
    "    sum1 = (pop**2).sum(-1) / 4000\n",
    "\n",
    "    sqrt_indices = (\n",
    "        torch.sqrt(torch.arange(1, d + 1, device=pop.device))\n",
    "        .unsqueeze(0)\n",
    "        .expand((pop_size, d))\n",
    "    )\n",
    "\n",
    "    cos1 = torch.cos(pop / sqrt_indices).prod(-1)\n",
    "\n",
    "    return sum1 - cos1 + 1\n",
    "\n",
    "\n",
    "def f3(pop):\n",
    "    \"\"\"Rosenbrock Function\"\"\"\n",
    "\n",
    "    pop0 = pop[:, :-1]\n",
    "    pop1 = pop[:, 1:]\n",
    "\n",
    "    return (100 * ((pop1 - pop0**2) ** 2) + (pop0 - 1) ** 2).sum(-1)\n",
    "\n",
    "\n",
    "def f4(pop, m=10):\n",
    "    \"\"\"Michalewicz Function\"\"\"\n",
    "    pop_size, d = pop.shape\n",
    "\n",
    "    indices = (\n",
    "        torch.arange(1, d + 1, device=pop.device).unsqueeze(0).expand((pop_size, d))\n",
    "    )\n",
    "\n",
    "    sin1 = torch.sin(indices * (pop**2) / np.pi) ** (2 * m)\n",
    "\n",
    "    return -(torch.sin(pop) * sin1).sum(-1)\n",
    "\n",
    "\n",
    "def f5(pop, a=20, b=0.2, c=2 * np.pi):\n",
    "    \"\"\"Ackley Function\"\"\"\n",
    "    pop_size, d = pop.shape\n",
    "\n",
    "    exp_mean_cos = torch.exp(torch.cos(pop * c).sum(-1) / d)\n",
    "\n",
    "    exp_sqrt_mean_square = torch.exp(torch.sqrt((pop**2).sum(-1) / d) * (-b))\n",
    "\n",
    "    return exp_sqrt_mean_square * (-a) - exp_mean_cos + a + np.e\n",
    "\n",
    "\n",
    "objectives = [\n",
    "    {\"name\": \"Sphere Function\", \"domain\": [-5.12, 5.12], \"func\": f1},\n",
    "    {\"name\": \"Griewank Function\", \"domain\": [-600, 600], \"func\": f2},\n",
    "    {\"name\": \"Rosenbrock Function\", \"domain\": [-5, 10], \"func\": f3},\n",
    "    {\"name\": \"Michalewicz Function\", \"domain\": [0, np.pi], \"func\": f4},\n",
    "    {\"name\": \"Ackley Function\", \"domain\": [-32.768, 32.768], \"func\": f5},\n",
    "]"
   ]
  },
  {
   "cell_type": "code",
   "execution_count": 4,
   "metadata": {},
   "outputs": [],
   "source": [
    "N = [16, 32, 64, 128, 256]"
   ]
  },
  {
   "cell_type": "markdown",
   "metadata": {},
   "source": [
    "# differential evolution"
   ]
  },
  {
   "cell_type": "code",
   "execution_count": 5,
   "metadata": {},
   "outputs": [],
   "source": [
    "def initialize_population(num_individuals, d, low=0, high=1, device=\"cpu\"):\n",
    "    pop = torch.distributions.uniform.Uniform(low, high).sample((num_individuals, d)).to(device)\n",
    "    return pop\n",
    "\n",
    "\n",
    "def create_mutant_pop(pop, F=0.1):\n",
    "    pop_size, d = pop.shape\n",
    "\n",
    "    # sample 3 indices from {0,1,2,...,N-1} / {i}\n",
    "    uniform_dis = torch.ones((pop_size, pop_size - 1), device=pop.device)\n",
    "\n",
    "    r = uniform_dis.multinomial(num_samples=3, replacement=False)\n",
    "\n",
    "    r = torch.where(\n",
    "        r >= torch.arange(pop_size, device=pop.device).unsqueeze(1), r + 1, r\n",
    "    ).T\n",
    "\n",
    "    V = pop[r[0]] + F * (pop[r[1]] - pop[r[2]])\n",
    "\n",
    "    return V\n",
    "\n",
    "\n",
    "def create_trial_pop(pop, Cr, F=0.1):\n",
    "    pop_size, d = pop.shape\n",
    "\n",
    "    # to ensure that offspring is different to their parent\n",
    "    Jrand = torch.randint(d, size=(pop_size,), device=pop.device)\n",
    "\n",
    "    # convert to the actual indices after flatten\n",
    "    Jrand += torch.arange(pop_size, device=pop.device) * d\n",
    "\n",
    "    condition = (torch.rand((pop_size, d), device=pop.device) <= Cr).flatten()\n",
    "\n",
    "    condition[Jrand] = True\n",
    "\n",
    "    condition = condition.reshape((pop_size, d))\n",
    "\n",
    "    V = create_mutant_pop(pop, F)\n",
    "\n",
    "    U = torch.where(condition, V, pop)\n",
    "\n",
    "    return U\n",
    "\n",
    "\n",
    "def de_selection(pop, trial_pop, pop_fitness, trial_pop_fitness):\n",
    "    selected = trial_pop_fitness < pop_fitness\n",
    "\n",
    "    new_pop = torch.where(selected.unsqueeze(1).expand_as(pop), trial_pop, pop)\n",
    "    new_fitness = torch.where(selected, trial_pop_fitness, pop_fitness)\n",
    "\n",
    "    return new_pop, new_fitness\n",
    "\n",
    "\n",
    "def differential_evolution(\n",
    "    objective=objectives[0],\n",
    "    N=16,\n",
    "    d=2,\n",
    "    Cr=0.1,\n",
    "    F=0.1,\n",
    "    max_evaluations=None,\n",
    "    seed=49,\n",
    "    device=\"cpu\",\n",
    "):\n",
    "    torch.manual_seed(seed)\n",
    "\n",
    "    if max_evaluations is None:\n",
    "        max_evaluations = d * 10000\n",
    "\n",
    "    pop = initialize_population(\n",
    "        num_individuals=N,\n",
    "        d=d,\n",
    "        low=objective[\"domain\"][0],\n",
    "        high=objective[\"domain\"][1],\n",
    "        device=device,\n",
    "    )\n",
    "    pop_fitness = objective[\"func\"](pop)\n",
    "    num_evaluations = N\n",
    "\n",
    "    # generation\n",
    "    g = 0\n",
    "    generation_log = []\n",
    "\n",
    "    while num_evaluations < max_evaluations:\n",
    "        best_idv = pop_fitness.argmax()\n",
    "        generation_log.append([\n",
    "            num_evaluations,\n",
    "            pop_fitness[best_idv].cpu().item(),\n",
    "            pop[best_idv].cpu().tolist(),\n",
    "        ])\n",
    "\n",
    "        # create trial population\n",
    "        trial_pop = create_trial_pop(pop=pop, Cr=Cr, F=F)\n",
    "        trial_pop_fitness = objective[\"func\"](trial_pop)\n",
    "        num_evaluations += N\n",
    "\n",
    "        pop, pop_fitness = de_selection(\n",
    "            pop, trial_pop, pop_fitness, trial_pop_fitness\n",
    "        )\n",
    "\n",
    "        g += 1\n",
    "\n",
    "\n",
    "    best_idv = pop_fitness.argmax()\n",
    "    generation_log.append([\n",
    "        num_evaluations,\n",
    "        pop_fitness[best_idv].cpu().item(),\n",
    "        pop[best_idv].cpu().tolist(),\n",
    "    ])\n",
    "    \n",
    "    return generation_log"
   ]
  },
  {
   "cell_type": "code",
   "execution_count": 6,
   "metadata": {},
   "outputs": [
    {
     "name": "stdout",
     "output_type": "stream",
     "text": [
      "CPU times: user 1min 13s, sys: 212 ms, total: 1min 14s\n",
      "Wall time: 19.8 s\n"
     ]
    }
   ],
   "source": [
    "%%time\n",
    "for o in objectives:\n",
    "    for n in N:\n",
    "        for d in [2, 10]:\n",
    "            re = differential_evolution(\n",
    "                objective=o,\n",
    "                N=n,\n",
    "                d=d,\n",
    "                Cr=0.1,\n",
    "                F=0.1,\n",
    "                max_evaluations=None,\n",
    "                seed=49,\n",
    "                device=\"cpu\",\n",
    "            )\n"
   ]
  },
  {
   "cell_type": "markdown",
   "metadata": {},
   "source": [
    "# Cross-entropy method"
   ]
  },
  {
   "cell_type": "code",
   "execution_count": 46,
   "metadata": {},
   "outputs": [
    {
     "name": "stdout",
     "output_type": "stream",
     "text": [
      "torch.Size([2])\n",
      "tensor([0.0469, 0.2767])\n",
      "tensor([0.7875, 0.2661])\n",
      "tensor([4.2652, 0.1732])\n",
      "tensor([14.2578,  5.5673])\n",
      "tensor([40.7659, 15.1237])\n",
      "tensor([148.8519, 112.5650])\n",
      "tensor([-177.5555, -231.4091])\n",
      "tensor([-3542.5913, -3783.4377])\n",
      "tensor([-12012.6641, -12759.7393])\n",
      "tensor([-5718.0195, -6033.1182])\n",
      "tensor([40174.4258, 42676.8672])\n"
     ]
    },
    {
     "ename": "ValueError",
     "evalue": "Expected parameter covariance_matrix (Tensor of shape (2, 2)) of distribution MultivariateNormal(loc: torch.Size([2]), covariance_matrix: torch.Size([2, 2])) to satisfy the constraint PositiveDefinite(), but found invalid values:\ntensor([[4.7801e+11, 5.0702e+11],\n        [5.0702e+11, 5.3779e+11]])",
     "output_type": "error",
     "traceback": [
      "\u001b[0;31m---------------------------------------------------------------------------\u001b[0m",
      "\u001b[0;31mValueError\u001b[0m                                Traceback (most recent call last)",
      "Cell \u001b[0;32mIn[46], line 68\u001b[0m\n\u001b[1;32m     62\u001b[0m         u \u001b[38;5;241m=\u001b[39m topNe\u001b[38;5;241m.\u001b[39mmean(\u001b[38;5;241m0\u001b[39m)\n\u001b[1;32m     66\u001b[0m     \u001b[38;5;66;03m# return u\u001b[39;00m\n\u001b[0;32m---> 68\u001b[0m \u001b[43mCEM\u001b[49m\u001b[43m(\u001b[49m\u001b[43m)\u001b[49m\n",
      "Cell \u001b[0;32mIn[46], line 47\u001b[0m, in \u001b[0;36mCEM\u001b[0;34m(objective, o_init, u, e, N, Ne, d, max_evaluations, seed, device)\u001b[0m\n\u001b[1;32m     43\u001b[0m \u001b[38;5;28mprint\u001b[39m(u\u001b[38;5;241m.\u001b[39mshape)\n\u001b[1;32m     45\u001b[0m \u001b[38;5;28;01mwhile\u001b[39;00m num_evaluations \u001b[38;5;241m<\u001b[39m max_evaluations:\n\u001b[0;32m---> 47\u001b[0m     samples \u001b[38;5;241m=\u001b[39m \u001b[43msample_search_points\u001b[49m\u001b[43m(\u001b[49m\u001b[43mu\u001b[49m\u001b[43m,\u001b[49m\u001b[43m \u001b[49m\u001b[43mcov\u001b[49m\u001b[43m,\u001b[49m\u001b[43m \u001b[49m\u001b[43mN\u001b[49m\u001b[43m)\u001b[49m\n\u001b[1;32m     49\u001b[0m     samples_fitness \u001b[38;5;241m=\u001b[39m objective[\u001b[38;5;124m\"\u001b[39m\u001b[38;5;124mfunc\u001b[39m\u001b[38;5;124m\"\u001b[39m](samples)\n\u001b[1;32m     50\u001b[0m     num_evaluations \u001b[38;5;241m+\u001b[39m\u001b[38;5;241m=\u001b[39m \u001b[38;5;28mlen\u001b[39m(samples)\n",
      "Cell \u001b[0;32mIn[46], line 2\u001b[0m, in \u001b[0;36msample_search_points\u001b[0;34m(u, cov, N)\u001b[0m\n\u001b[1;32m      1\u001b[0m \u001b[38;5;28;01mdef\u001b[39;00m \u001b[38;5;21msample_search_points\u001b[39m(u, cov, N):\n\u001b[0;32m----> 2\u001b[0m     sampler \u001b[38;5;241m=\u001b[39m \u001b[43mtorch\u001b[49m\u001b[38;5;241;43m.\u001b[39;49m\u001b[43mdistributions\u001b[49m\u001b[38;5;241;43m.\u001b[39;49m\u001b[43mmultivariate_normal\u001b[49m\u001b[38;5;241;43m.\u001b[39;49m\u001b[43mMultivariateNormal\u001b[49m\u001b[43m(\u001b[49m\u001b[43mu\u001b[49m\u001b[43m,\u001b[49m\u001b[43m \u001b[49m\u001b[43mcov\u001b[49m\u001b[43m)\u001b[49m\n\u001b[1;32m      3\u001b[0m     \u001b[38;5;28;01mreturn\u001b[39;00m sampler\u001b[38;5;241m.\u001b[39msample((N,))\n",
      "File \u001b[0;32m~/.virtualenvs/evo/lib/python3.11/site-packages/torch/distributions/multivariate_normal.py:177\u001b[0m, in \u001b[0;36mMultivariateNormal.__init__\u001b[0;34m(self, loc, covariance_matrix, precision_matrix, scale_tril, validate_args)\u001b[0m\n\u001b[1;32m    174\u001b[0m \u001b[38;5;28mself\u001b[39m\u001b[38;5;241m.\u001b[39mloc \u001b[38;5;241m=\u001b[39m loc\u001b[38;5;241m.\u001b[39mexpand(batch_shape \u001b[38;5;241m+\u001b[39m (\u001b[38;5;241m-\u001b[39m\u001b[38;5;241m1\u001b[39m,))\n\u001b[1;32m    176\u001b[0m event_shape \u001b[38;5;241m=\u001b[39m \u001b[38;5;28mself\u001b[39m\u001b[38;5;241m.\u001b[39mloc\u001b[38;5;241m.\u001b[39mshape[\u001b[38;5;241m-\u001b[39m\u001b[38;5;241m1\u001b[39m:]\n\u001b[0;32m--> 177\u001b[0m \u001b[38;5;28;43msuper\u001b[39;49m\u001b[43m(\u001b[49m\u001b[43m)\u001b[49m\u001b[38;5;241;43m.\u001b[39;49m\u001b[38;5;21;43m__init__\u001b[39;49m\u001b[43m(\u001b[49m\u001b[43mbatch_shape\u001b[49m\u001b[43m,\u001b[49m\u001b[43m \u001b[49m\u001b[43mevent_shape\u001b[49m\u001b[43m,\u001b[49m\u001b[43m \u001b[49m\u001b[43mvalidate_args\u001b[49m\u001b[38;5;241;43m=\u001b[39;49m\u001b[43mvalidate_args\u001b[49m\u001b[43m)\u001b[49m\n\u001b[1;32m    179\u001b[0m \u001b[38;5;28;01mif\u001b[39;00m scale_tril \u001b[38;5;129;01mis\u001b[39;00m \u001b[38;5;129;01mnot\u001b[39;00m \u001b[38;5;28;01mNone\u001b[39;00m:\n\u001b[1;32m    180\u001b[0m     \u001b[38;5;28mself\u001b[39m\u001b[38;5;241m.\u001b[39m_unbroadcasted_scale_tril \u001b[38;5;241m=\u001b[39m scale_tril\n",
      "File \u001b[0;32m~/.virtualenvs/evo/lib/python3.11/site-packages/torch/distributions/distribution.py:68\u001b[0m, in \u001b[0;36mDistribution.__init__\u001b[0;34m(self, batch_shape, event_shape, validate_args)\u001b[0m\n\u001b[1;32m     66\u001b[0m         valid \u001b[38;5;241m=\u001b[39m constraint\u001b[38;5;241m.\u001b[39mcheck(value)\n\u001b[1;32m     67\u001b[0m         \u001b[38;5;28;01mif\u001b[39;00m \u001b[38;5;129;01mnot\u001b[39;00m valid\u001b[38;5;241m.\u001b[39mall():\n\u001b[0;32m---> 68\u001b[0m             \u001b[38;5;28;01mraise\u001b[39;00m \u001b[38;5;167;01mValueError\u001b[39;00m(\n\u001b[1;32m     69\u001b[0m                 \u001b[38;5;124mf\u001b[39m\u001b[38;5;124m\"\u001b[39m\u001b[38;5;124mExpected parameter \u001b[39m\u001b[38;5;132;01m{\u001b[39;00mparam\u001b[38;5;132;01m}\u001b[39;00m\u001b[38;5;124m \u001b[39m\u001b[38;5;124m\"\u001b[39m\n\u001b[1;32m     70\u001b[0m                 \u001b[38;5;124mf\u001b[39m\u001b[38;5;124m\"\u001b[39m\u001b[38;5;124m(\u001b[39m\u001b[38;5;132;01m{\u001b[39;00m\u001b[38;5;28mtype\u001b[39m(value)\u001b[38;5;241m.\u001b[39m\u001b[38;5;18m__name__\u001b[39m\u001b[38;5;132;01m}\u001b[39;00m\u001b[38;5;124m of shape \u001b[39m\u001b[38;5;132;01m{\u001b[39;00m\u001b[38;5;28mtuple\u001b[39m(value\u001b[38;5;241m.\u001b[39mshape)\u001b[38;5;132;01m}\u001b[39;00m\u001b[38;5;124m) \u001b[39m\u001b[38;5;124m\"\u001b[39m\n\u001b[1;32m     71\u001b[0m                 \u001b[38;5;124mf\u001b[39m\u001b[38;5;124m\"\u001b[39m\u001b[38;5;124mof distribution \u001b[39m\u001b[38;5;132;01m{\u001b[39;00m\u001b[38;5;28mrepr\u001b[39m(\u001b[38;5;28mself\u001b[39m)\u001b[38;5;132;01m}\u001b[39;00m\u001b[38;5;124m \u001b[39m\u001b[38;5;124m\"\u001b[39m\n\u001b[1;32m     72\u001b[0m                 \u001b[38;5;124mf\u001b[39m\u001b[38;5;124m\"\u001b[39m\u001b[38;5;124mto satisfy the constraint \u001b[39m\u001b[38;5;132;01m{\u001b[39;00m\u001b[38;5;28mrepr\u001b[39m(constraint)\u001b[38;5;132;01m}\u001b[39;00m\u001b[38;5;124m, \u001b[39m\u001b[38;5;124m\"\u001b[39m\n\u001b[1;32m     73\u001b[0m                 \u001b[38;5;124mf\u001b[39m\u001b[38;5;124m\"\u001b[39m\u001b[38;5;124mbut found invalid values:\u001b[39m\u001b[38;5;130;01m\\n\u001b[39;00m\u001b[38;5;132;01m{\u001b[39;00mvalue\u001b[38;5;132;01m}\u001b[39;00m\u001b[38;5;124m\"\u001b[39m\n\u001b[1;32m     74\u001b[0m             )\n\u001b[1;32m     75\u001b[0m \u001b[38;5;28msuper\u001b[39m()\u001b[38;5;241m.\u001b[39m\u001b[38;5;21m__init__\u001b[39m()\n",
      "\u001b[0;31mValueError\u001b[0m: Expected parameter covariance_matrix (Tensor of shape (2, 2)) of distribution MultivariateNormal(loc: torch.Size([2]), covariance_matrix: torch.Size([2, 2])) to satisfy the constraint PositiveDefinite(), but found invalid values:\ntensor([[4.7801e+11, 5.0702e+11],\n        [5.0702e+11, 5.3779e+11]])"
     ]
    }
   ],
   "source": [
    "def sample_search_points(u, cov, N):\n",
    "    sampler = torch.distributions.multivariate_normal.MultivariateNormal(u, cov)\n",
    "    return sampler.sample((N,))\n",
    "\n",
    "def calc_cov(samples, u, e):\n",
    "    # Wi = 1/Ne\n",
    "    d = u.shape[0]\n",
    "\n",
    "    u = u.unsqueeze(0).expand_as(samples)\n",
    "    diff = samples - u\n",
    "    return torch.einsum(\"ki,kj->ij\", diff, diff) + torch.eye(d, device=samples.device) * e\n",
    "\n",
    "\n",
    "def CEM(\n",
    "    objective=objectives[0],\n",
    "    o_init=1,\n",
    "    u=None,\n",
    "    e=0.01,\n",
    "    N=16,\n",
    "    Ne=4,\n",
    "    d=2,\n",
    "    max_evaluations=None,\n",
    "    seed=49,\n",
    "    device=\"cpu\",\n",
    "):\n",
    "    torch.manual_seed(seed)\n",
    "\n",
    "    if max_evaluations is None:\n",
    "        max_evaluations = d * 10000\n",
    "\n",
    "    cov = torch.eye(d, device=device) * o_init\n",
    "\n",
    "    if u == None:\n",
    "        u = torch.rand(d, device=device)\n",
    "    else:\n",
    "        u = u.to(device)\n",
    "\n",
    "    num_evaluations = 0\n",
    "\n",
    "    print(u.shape)\n",
    "\n",
    "    while num_evaluations < max_evaluations:\n",
    "\n",
    "        samples = sample_search_points(u, cov, N)\n",
    "\n",
    "        samples_fitness = objective[\"func\"](samples)\n",
    "        num_evaluations += len(samples)\n",
    "\n",
    "        topNe_ids = torch.topk(samples_fitness, k=Ne).indices\n",
    "\n",
    "        topNe = samples[topNe_ids]\n",
    "\n",
    "        # Wi = 1/Ne\n",
    "        cov = calc_cov(topNe, u, e)\n",
    "\n",
    "        u = topNe.mean(0)\n",
    "\n",
    "\n",
    "\n",
    "    # return u\n",
    "\n",
    "CEM()\n"
   ]
  },
  {
   "cell_type": "code",
   "execution_count": 41,
   "metadata": {},
   "outputs": [
    {
     "name": "stdout",
     "output_type": "stream",
     "text": [
      "tensor([0.0469, 0.2767])\n"
     ]
    },
    {
     "ename": "RuntimeError",
     "evalue": "The size of tensor a (2) must match the size of tensor b (4) at non-singleton dimension 1",
     "output_type": "error",
     "traceback": [
      "\u001b[0;31m---------------------------------------------------------------------------\u001b[0m",
      "\u001b[0;31mRuntimeError\u001b[0m                              Traceback (most recent call last)",
      "Cell \u001b[0;32mIn[41], line 1\u001b[0m\n\u001b[0;32m----> 1\u001b[0m \u001b[43mCEM\u001b[49m\u001b[43m(\u001b[49m\u001b[43m)\u001b[49m\n",
      "Cell \u001b[0;32mIn[40], line 58\u001b[0m, in \u001b[0;36mCEM\u001b[0;34m(objective, o_init, u, e, N, Ne, d, max_evaluations, seed, device)\u001b[0m\n\u001b[1;32m     54\u001b[0m topNe \u001b[38;5;241m=\u001b[39m samples[topNe_ids]\n\u001b[1;32m     56\u001b[0m \u001b[38;5;66;03m# Wi = 1/Ne\u001b[39;00m\n\u001b[0;32m---> 58\u001b[0m cov \u001b[38;5;241m=\u001b[39m \u001b[43mcalc_cov\u001b[49m\u001b[43m(\u001b[49m\u001b[43mtopNe\u001b[49m\u001b[43m,\u001b[49m\u001b[43m \u001b[49m\u001b[43mu\u001b[49m\u001b[43m,\u001b[49m\u001b[43m \u001b[49m\u001b[43me\u001b[49m\u001b[43m)\u001b[49m\n\u001b[1;32m     60\u001b[0m u \u001b[38;5;241m=\u001b[39m topNe\u001b[38;5;241m.\u001b[39mmean(\u001b[38;5;241m0\u001b[39m)\n\u001b[1;32m     62\u001b[0m \u001b[38;5;28mprint\u001b[39m(topNe\u001b[38;5;241m.\u001b[39mmean(\u001b[38;5;241m0\u001b[39m))\n",
      "Cell \u001b[0;32mIn[40], line 14\u001b[0m, in \u001b[0;36mcalc_cov\u001b[0;34m(samples, u, e)\u001b[0m\n\u001b[1;32m     10\u001b[0m diff \u001b[38;5;241m=\u001b[39m samples \u001b[38;5;241m-\u001b[39m u\n\u001b[1;32m     12\u001b[0m \u001b[38;5;66;03m# print(u)\u001b[39;00m\n\u001b[0;32m---> 14\u001b[0m \u001b[38;5;28;01mreturn\u001b[39;00m \u001b[43mtorch\u001b[49m\u001b[38;5;241;43m.\u001b[39;49m\u001b[43meinsum\u001b[49m\u001b[43m(\u001b[49m\u001b[38;5;124;43m\"\u001b[39;49m\u001b[38;5;124;43mki,kj->ij\u001b[39;49m\u001b[38;5;124;43m\"\u001b[39;49m\u001b[43m,\u001b[49m\u001b[43m \u001b[49m\u001b[43mdiff\u001b[49m\u001b[43m,\u001b[49m\u001b[43m \u001b[49m\u001b[43mdiff\u001b[49m\u001b[43m)\u001b[49m\u001b[43m \u001b[49m\u001b[38;5;241;43m+\u001b[39;49m\u001b[43m \u001b[49m\u001b[43mtorch\u001b[49m\u001b[38;5;241;43m.\u001b[39;49m\u001b[43meye\u001b[49m\u001b[43m(\u001b[49m\u001b[43mu\u001b[49m\u001b[38;5;241;43m.\u001b[39;49m\u001b[43mshape\u001b[49m\u001b[43m[\u001b[49m\u001b[38;5;241;43m0\u001b[39;49m\u001b[43m]\u001b[49m\u001b[43m,\u001b[49m\u001b[43m \u001b[49m\u001b[43mdevice\u001b[49m\u001b[38;5;241;43m=\u001b[39;49m\u001b[43msamples\u001b[49m\u001b[38;5;241;43m.\u001b[39;49m\u001b[43mdevice\u001b[49m\u001b[43m)\u001b[49m\u001b[43m \u001b[49m\u001b[38;5;241;43m*\u001b[39;49m\u001b[43m \u001b[49m\u001b[43me\u001b[49m\n",
      "\u001b[0;31mRuntimeError\u001b[0m: The size of tensor a (2) must match the size of tensor b (4) at non-singleton dimension 1"
     ]
    }
   ],
   "source": [
    "CEM()"
   ]
  },
  {
   "cell_type": "code",
   "execution_count": 36,
   "metadata": {},
   "outputs": [
    {
     "data": {
      "text/plain": [
       "tensor([0.5517, 0.4875, 0.5806])"
      ]
     },
     "execution_count": 36,
     "metadata": {},
     "output_type": "execute_result"
    }
   ],
   "source": [
    "torch.rand(12,3).mean(0)"
   ]
  }
 ],
 "metadata": {
  "kernelspec": {
   "display_name": "evo",
   "language": "python",
   "name": "python3"
  },
  "language_info": {
   "codemirror_mode": {
    "name": "ipython",
    "version": 3
   },
   "file_extension": ".py",
   "mimetype": "text/x-python",
   "name": "python",
   "nbconvert_exporter": "python",
   "pygments_lexer": "ipython3",
   "version": "3.11.8"
  }
 },
 "nbformat": 4,
 "nbformat_minor": 2
}
