{
 "cells": [
  {
   "cell_type": "code",
   "execution_count": 1,
   "metadata": {},
   "outputs": [
    {
     "data": {
      "text/plain": [
       "device(type='cuda')"
      ]
     },
     "execution_count": 1,
     "metadata": {},
     "output_type": "execute_result"
    }
   ],
   "source": [
    "import warnings\n",
    "warnings.filterwarnings('ignore')\n",
    "%matplotlib inline\n",
    "import matplotlib.pyplot as plt\n",
    "import numpy as np\n",
    "# from tqdm.auto import tqdm\n",
    "from tqdm import tqdm\n",
    "import pandas as pd\n",
    "import torch\n",
    "from scipy import stats\n",
    "device = torch.device('cuda' if torch.cuda.is_available() else 'cpu')\n",
    "device"
   ]
  },
  {
   "cell_type": "code",
   "execution_count": 71,
   "metadata": {},
   "outputs": [],
   "source": [
    "student_id = 21522188"
   ]
  },
  {
   "cell_type": "code",
   "execution_count": 138,
   "metadata": {},
   "outputs": [
    {
     "data": {
      "text/plain": [
       "tensor([8, 6, 5, 1, 4, 9, 7, 2, 0, 7])"
      ]
     },
     "execution_count": 138,
     "metadata": {},
     "output_type": "execute_result"
    }
   ],
   "source": [
    "torch.randint(10, size=(10,))"
   ]
  },
  {
   "cell_type": "markdown",
   "metadata": {},
   "source": [
    "# Objective Functions"
   ]
  },
  {
   "cell_type": "code",
   "execution_count": 165,
   "metadata": {},
   "outputs": [],
   "source": [
    "def f1(pop):\n",
    "    \"\"\"Sphere Function\"\"\"\n",
    "    return (pop**2).sum(-1)\n",
    "\n",
    "\n",
    "def f2(pop):\n",
    "    \"Griewank Function\"\n",
    "    pop_size, d = pop.shape\n",
    "\n",
    "    sum1 = (pop**2).sum(-1) / 4000\n",
    "\n",
    "    sqrt_indices = (\n",
    "        torch.sqrt(torch.arange(1, d + 1, device=pop.device))\n",
    "        .unsqueeze(0)\n",
    "        .expand((pop_size, d))\n",
    "    )\n",
    "\n",
    "    cos1 = torch.cos(pop / sqrt_indices).prod(-1)\n",
    "\n",
    "    return sum1 - cos1 + 1\n",
    "\n",
    "\n",
    "def f3(pop):\n",
    "    \"\"\"Rosenbrock Function\"\"\"\n",
    "\n",
    "    pop0 = pop[:, :-1]\n",
    "    pop1 = pop[:, 1:]\n",
    "\n",
    "    return (100 * ((pop1 - pop0**2) ** 2) + (pop0 - 1) ** 2).sum(-1)\n",
    "\n",
    "\n",
    "def f4(pop, m=10):\n",
    "    \"\"\"Michalewicz Function\"\"\"\n",
    "    pop_size, d = pop.shape\n",
    "\n",
    "    indices = (\n",
    "        torch.arange(1, d + 1, device=pop.device).unsqueeze(0).expand((pop_size, d))\n",
    "    )\n",
    "\n",
    "    sin1 = torch.sin(indices * (pop**2) / np.pi) ** (2 * m)\n",
    "\n",
    "    return -(torch.sin(pop) * sin1).sum(-1)\n",
    "\n",
    "\n",
    "def f5(pop, a=20, b=0.2, c=2 * np.pi):\n",
    "    \"\"\"Ackley Function\"\"\"\n",
    "    pop_size, d = pop.shape\n",
    "\n",
    "    exp_mean_cos = torch.exp(torch.cos(pop * c).sum(-1) / d)\n",
    "\n",
    "    exp_sqrt_mean_square = torch.exp(torch.sqrt((pop**2).sum(-1) / d) * (-b))\n",
    "\n",
    "    return exp_sqrt_mean_square * (-a) - exp_mean_cos + a + np.e\n",
    "\n",
    "\n",
    "objectives = {\n",
    "    1: {\"name\": \"Sphere Function\", \"domain\": [-5.12, 5.12], \"func\": f1},\n",
    "    2: {\"name\": \"Griewank Function\", \"domain\": [-600, 600], \"func\": f2},\n",
    "    3: {\"name\": \"Rosenbrock Function\", \"domain\": [-5, 10], \"func\": f3},\n",
    "    4: {\"name\": \"Michalewicz Function\", \"domain\": [0, np.pi], \"func\": f4},\n",
    "    5: {\"name\": \"Ackley Function\", \"domain\": [-32.768, 32.768], \"func\": f5},\n",
    "}"
   ]
  },
  {
   "cell_type": "code",
   "execution_count": 68,
   "metadata": {},
   "outputs": [
    {
     "data": {
      "text/plain": [
       "2.718281828459045"
      ]
     },
     "execution_count": 68,
     "metadata": {},
     "output_type": "execute_result"
    }
   ],
   "source": [
    "N = [16, 32, 64, 128, 256]"
   ]
  },
  {
   "cell_type": "markdown",
   "metadata": {},
   "source": [
    "# differential evolution"
   ]
  },
  {
   "cell_type": "code",
   "execution_count": 196,
   "metadata": {},
   "outputs": [],
   "source": [
    "def initialize_population(num_individuals, d, low=0, high=1, device=\"cpu\"):\n",
    "    pop = torch.distributions.uniform.Uniform(low, high).sample((num_individuals, d))\n",
    "    return pop\n",
    "\n",
    "\n",
    "def create_mutant_pop(pop, F=0.1):\n",
    "    pop_size, d = pop.shape\n",
    "\n",
    "    # sample 3 indices from {0,1,2,...,N-1} / {i}\n",
    "    uniform_dis = torch.ones((pop_size, pop_size - 1), device=pop.device)\n",
    "\n",
    "    r = uniform_dis.multinomial(num_samples=3, replacement=False)\n",
    "\n",
    "    r = torch.where(\n",
    "        r >= torch.arange(pop_size, device=pop.device).unsqueeze(1), r + 1, r\n",
    "    ).T\n",
    "\n",
    "    v = pop[r[0]] + F * (pop[r[1]] - pop[r[2]])\n",
    "\n",
    "    return v\n",
    "\n",
    "\n",
    "def create_trial_pop(pop, Cr, F=0.1):\n",
    "    pop_size, d = pop.shape\n",
    "\n",
    "    # to ensure that offspring is different to their parent\n",
    "    Jrand = torch.randint(d, size=(pop_size,), device=pop.device)\n",
    "\n",
    "    # convert to the actual indices after flatten\n",
    "    Jrand += torch.arange(pop_size, device=pop.device) * d\n",
    "\n",
    "    condition = (torch.rand((pop_size, d), device=pop.device) <= Cr).flatten()\n",
    "\n",
    "    condition[Jrand] = True\n",
    "\n",
    "    condition = condition.reshape((pop_size, d))\n",
    "\n",
    "    V = create_mutant_pop(pop, F)\n",
    "\n",
    "    U = torch.where(condition, V, pop)\n",
    "\n",
    "    return U\n",
    "\n",
    "\n",
    "def de_selection(pop, trial_pop, pop_fitness, trial_pop_fitness):\n",
    "    selected = trial_pop_fitness < pop_fitness\n",
    "\n",
    "    new_pop = torch.where(selected.unsqueeze(1).expand_as(pop), trial_pop, pop)\n",
    "    new_fitness = torch.where(selected, trial_pop_fitness, pop_fitness)\n",
    "\n",
    "    return new_pop, new_fitness\n",
    "\n",
    "\n",
    "def differential_evolution(\n",
    "    objective=objectives[1],\n",
    "    N=16,\n",
    "    d=2,\n",
    "    Cr=0.1,\n",
    "    F=0.1,\n",
    "    max_evaluations=None,\n",
    "    seed=49,\n",
    "    device=\"cpu\",\n",
    "):\n",
    "    torch.manual_seed(seed)\n",
    "\n",
    "    if max_evaluations is None:\n",
    "        max_evaluations = d * 10000\n",
    "\n",
    "    pop = initialize_population(\n",
    "        num_individuals=N,\n",
    "        d=d,\n",
    "        low=objective[\"domain\"][0],\n",
    "        high=objective[\"domain\"][1],\n",
    "        device=device,\n",
    "    )\n",
    "    pop_fitness = objective[\"func\"](pop)\n",
    "    num_evaluations = N\n",
    "\n",
    "    # generation\n",
    "    g = 0\n",
    "\n",
    "    generation_log = []\n",
    "\n",
    "    while num_evaluations < max_evaluations:\n",
    "        best_idv = pop_fitness.argmax()\n",
    "        generation_log.append([\n",
    "            num_evaluations,\n",
    "            pop_fitness[best_idv].cpu().item(),\n",
    "            pop[best_idv].cpu().tolist(),\n",
    "        ])\n",
    "\n",
    "        # create trial population\n",
    "        trial_pop = create_trial_pop(pop=pop, Cr=Cr, F=F)\n",
    "        trial_pop_fitness = objective[\"func\"](trial_pop)\n",
    "        num_evaluations += N\n",
    "\n",
    "        pop, pop_fitness = de_selection(\n",
    "            pop, trial_pop, pop_fitness, trial_pop_fitness\n",
    "        )\n",
    "\n",
    "        g += 1\n",
    "\n",
    "\n",
    "    best_idv = pop_fitness.argmax()\n",
    "    generation_log.append([\n",
    "        num_evaluations,\n",
    "        pop_fitness[best_idv].cpu().item(),\n",
    "        pop[best_idv].cpu().tolist(),\n",
    "    ])\n",
    "    \n",
    "    return generation_log"
   ]
  },
  {
   "cell_type": "code",
   "execution_count": 198,
   "metadata": {},
   "outputs": [
    {
     "name": "stdout",
     "output_type": "stream",
     "text": [
      "CPU times: user 297 ms, sys: 1.99 ms, total: 299 ms\n",
      "Wall time: 301 ms\n"
     ]
    }
   ],
   "source": [
    "%%time\n",
    "\n",
    "re = differential_evolution(\n",
    "    objective=objectives[i],\n",
    ")\n"
   ]
  },
  {
   "cell_type": "markdown",
   "metadata": {},
   "source": [
    "# CEM"
   ]
  }
 ],
 "metadata": {
  "kernelspec": {
   "display_name": "evo",
   "language": "python",
   "name": "python3"
  },
  "language_info": {
   "codemirror_mode": {
    "name": "ipython",
    "version": 3
   },
   "file_extension": ".py",
   "mimetype": "text/x-python",
   "name": "python",
   "nbconvert_exporter": "python",
   "pygments_lexer": "ipython3",
   "version": "3.11.8"
  }
 },
 "nbformat": 4,
 "nbformat_minor": 2
}
