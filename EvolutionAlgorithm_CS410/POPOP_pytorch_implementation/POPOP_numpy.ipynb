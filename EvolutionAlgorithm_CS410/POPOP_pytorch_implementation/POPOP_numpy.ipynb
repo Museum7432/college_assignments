{
  "cells": [
    {
      "cell_type": "code",
      "execution_count": 105,
      "metadata": {
        "collapsed": true,
        "id": "r__fmusqNNuu"
      },
      "outputs": [],
      "source": [
        "import warnings\n",
        "warnings.filterwarnings('ignore')\n",
        "%matplotlib inline\n",
        "import matplotlib.pyplot as plt\n",
        "import numpy as np\n",
        "# from tqdm.auto import tqdm\n",
        "from tqdm import tqdm\n",
        "\n",
        "from multiprocessing import Pool"
      ]
    },
    {
      "cell_type": "code",
      "execution_count": 106,
      "metadata": {},
      "outputs": [],
      "source": [
        "student_id=21522188"
      ]
    },
    {
      "cell_type": "code",
      "execution_count": 107,
      "metadata": {
        "id": "cDw0uXxPNNuv"
      },
      "outputs": [],
      "source": [
        "def initialize_population(num_individuals, num_variables):\n",
        "    \"\"\"\n",
        "    Khởi tạo quần thể gồm num_individuals cá thể. Mỗi cá thể có num_parameters biến.\n",
        "\n",
        "    Arguments:\n",
        "    num_individuals -- Số lượng cá thể\n",
        "    num_variables -- Số lượng biến\n",
        "\n",
        "    Returns:\n",
        "    pop -- Ma trận (num_individuals, num_variables ) chứa quần thể mới được khởi tạo ngẫu nhiên.\n",
        "    \"\"\"\n",
        "\n",
        "    pop = np.random.randint(2, size=(num_individuals, num_variables))\n",
        "\n",
        "    return pop\n",
        "\n",
        "\n",
        "# optimized for multithreading\n",
        "\n",
        "\n",
        "def crossover(pop):\n",
        "    \"\"\"\n",
        "    Hàm biến đổi tạo ra các cá thể con.\n",
        "\n",
        "    Arguments:\n",
        "    pop -- Quàn thể hiện tại.\n",
        "\n",
        "    Returns:\n",
        "    offspring -- Quần thể chứa các cá thể con được sinh ra.\n",
        "    \"\"\"\n",
        "\n",
        "    num_individuals, num_parameters = pop.shape\n",
        "\n",
        "    # Đảo ngẫu nhiên thứ tự các cá thể trong quần thể\n",
        "    indexes = np.random.permutation(num_individuals)\n",
        "    # (num_individuals, num_parameters)\n",
        "    pop = pop[indexes]\n",
        "\n",
        "    if num_individuals % 2 != 0:\n",
        "        pop = pop[:-1]\n",
        "        num_individuals -= 1\n",
        "\n",
        "    num_offsprings = num_individuals // 2\n",
        "\n",
        "    # groub 2 consecutive individuals together\n",
        "    pop = pop.reshape((num_offsprings, 2, num_parameters))\n",
        "\n",
        "    # (num_offsprings, num_parameters, 2)\n",
        "    pop = pop.transpose((0, 2, 1))\n",
        "\n",
        "    # (num_offsprings * num_parameters, 2)\n",
        "    pop = pop.reshape((num_offsprings * num_parameters, 2))\n",
        "\n",
        "    # indvs1 (num_offsprings * num_parameters, 1)\n",
        "    indvs1, indvs2 = np.hsplit(pop, 2)\n",
        "\n",
        "    t = np.random.rand(num_offsprings * num_parameters)\n",
        "\n",
        "    # (num_offsprings * num_parameters)\n",
        "    offsprings1 = np.where(t < 0.5, indvs1.squeeze(), indvs2.squeeze())\n",
        "\n",
        "    # (num_offsprings, num_parameters)\n",
        "    offsprings = offsprings.reshape((num_offsprings, num_parameters))\n",
        "\n",
        "    return offsprings\n",
        "\n",
        "\n",
        "def mutation(pop, mutation_prob):\n",
        "\n",
        "    # pop (num_individuals, num_parameters)\n",
        "    num_individuals, num_parameters = pop.shape\n",
        "\n",
        "    # (num_individuals * num_parameters)\n",
        "    pop = pop.reshape((-1))\n",
        "\n",
        "    t = np.random.rand(num_individuals * num_parameters)\n",
        "\n",
        "    # flip bit with a probability of mutation_prob\n",
        "    res = np.where(t < mutation_prob, 1 - pop, pop)\n",
        "\n",
        "    res = res.reshape((num_individuals, num_parameters))\n",
        "\n",
        "    return res"
      ]
    },
    {
      "cell_type": "markdown",
      "metadata": {},
      "source": [
        "# Benchmark functions"
      ]
    },
    {
      "cell_type": "code",
      "execution_count": 108,
      "metadata": {
        "id": "sexPh34MNNuw"
      },
      "outputs": [],
      "source": [
        "def onemax(pop):\n",
        "    return pop.sum(axis=-1)\n",
        "\n",
        "def leadingone(pop):\n",
        "    first_items = pop[:,0]\n",
        "    # indice of the first 0\n",
        "    first_idx = np.argmin(pop, axis=-1)\n",
        "    # if first_idx == 0, then it's either [1,1,1,1] or [0,0,1,...]\n",
        "    return np.where(first_idx==0, first_items*(pop.shape[1]), first_idx)\n",
        "\n",
        "\n",
        "def trap(pop, nof_bits=5):\n",
        "    # assume len(pop[0]) is divisible by nof_bits\n",
        "\n",
        "    # pop (num_individuals, num_parameters)\n",
        "    num_individuals, num_parameters = pop.shape\n",
        "\n",
        "    # (num_individuals, num_parameters//nof_bits )\n",
        "    t = pop.reshape((num_individuals, -1, nof_bits)).sum(axis=-1)\n",
        "\n",
        "    # (num_individuals, num_parameters//nof_bits )\n",
        "    values = np.where(t < nof_bits, nof_bits - 1 - t, nof_bits)\n",
        "    \n",
        "    # (num_individuals )\n",
        "    return values.sum(axis=-1)\n",
        "\n",
        "\n",
        "objective_funcs = {\n",
        "    \"Onemax\": onemax,\n",
        "    \"LeadingOne\": leadingone,\n",
        "    \"Concatenated Trap-5\": trap,\n",
        "}"
      ]
    },
    {
      "cell_type": "code",
      "execution_count": 109,
      "metadata": {},
      "outputs": [
        {
          "name": "stdout",
          "output_type": "stream",
          "text": [
            "onemax [5 4]\n",
            "leadingone [5 4]\n",
            "trap [5 0]\n"
          ]
        }
      ],
      "source": [
        "t = np.array([\n",
        "    [1,1,1,1,1],\n",
        "    [1,1,1,1,0],\n",
        "])\n",
        "print(\"onemax\", onemax(t))\n",
        "print(\"leadingone\", leadingone(t))\n",
        "print(\"trap\", trap(t))"
      ]
    },
    {
      "cell_type": "markdown",
      "metadata": {},
      "source": [
        "# Selection functions"
      ]
    },
    {
      "cell_type": "code",
      "execution_count": 110,
      "metadata": {
        "id": "RWOJbcSCn3mz"
      },
      "outputs": [],
      "source": [
        "def truncation_selection(pop, pop_fitness, selection_size):\n",
        "    return np.argpartition(pop_fitness, -selection_size)[-selection_size:]\n",
        "\n",
        "\n",
        "def tournament_selection(pop, pop_fitness, selection_size, tournament_size=4):\n",
        "    # pop (num_individuals, num_parameters)\n",
        "    num_individuals, num_parameters = pop.shape\n",
        "\n",
        "    # select tournament_size opponents from the population selection_size times\n",
        "    # (selection_size * tournament_size)\n",
        "    # t_indices = np.concatenate(\n",
        "    #     [\n",
        "    #         np.random.choice(num_individuals, size=tournament_size, replace=False)\n",
        "    #         for _ in range(selection_size)\n",
        "    #     ]\n",
        "    # )\n",
        "    # optimized version\n",
        "    # https://stackoverflow.com/questions/53891169/numpy-take-many-samples-with-no-replacement-by-row\n",
        "    t_indices = np.random.rand(selection_size, num_individuals).argpartition(\n",
        "        tournament_size, axis=1\n",
        "    )[:, :tournament_size].flatten()\n",
        "\n",
        "    # fitness of each opponent\n",
        "    # (selection_size * tournament_size)\n",
        "    t_fitness = pop_fitness[t_indices]\n",
        "\n",
        "    # (selection_size, tournament_size)\n",
        "    t_fitness = t_fitness.reshape((selection_size, tournament_size))\n",
        "\n",
        "    # winner of each tournament\n",
        "    # (selection_size)\n",
        "    t_winners = np.argmax(t_fitness, axis=-1)\n",
        "\n",
        "    # convert to the actual indices of t_indices\n",
        "    t_winners = t_winners + np.arange(selection_size) * tournament_size\n",
        "    return t_indices[t_winners]\n",
        "\n",
        "\n",
        "def proportional_selection(pop, pop_fitness, selection_size):\n",
        "    selection_probs = pop_fitness / pop_fitness.sum()\n",
        "    return np.random.choice(range(len(pop)), size=selection_size, p=selection_probs)\n",
        "\n",
        "\n",
        "selection_funcs = {\n",
        "    \"tournament\": tournament_selection,\n",
        "    \"truncation\": truncation_selection,\n",
        "    \"proportional\": proportional_selection,\n",
        "}"
      ]
    },
    {
      "cell_type": "markdown",
      "metadata": {},
      "source": [
        "# Genetic algorithm"
      ]
    },
    {
      "cell_type": "code",
      "execution_count": 125,
      "metadata": {},
      "outputs": [],
      "source": [
        "def genetic_algorithm(\n",
        "    objective=onemax,\n",
        "    selection_func=truncation_selection,\n",
        "    num_individuals=32,\n",
        "    num_parameters=100,\n",
        "    max_evaluations=100000,\n",
        "    use_mutation=False,\n",
        "    seed=49,\n",
        "):\n",
        "    # seeding will be done per thread\n",
        "    np.random.seed(seed)\n",
        "\n",
        "    pop = initialize_population(num_individuals, num_parameters)\n",
        "    pop_fitness = objective(pop)\n",
        "    num_evaluations = num_individuals\n",
        "    best_fitness = []\n",
        "\n",
        "    selection_size = num_individuals // 2\n",
        "\n",
        "    while num_evaluations < max_evaluations:\n",
        "        best_fitness.append([num_evaluations, np.max(pop_fitness)])\n",
        "\n",
        "        # tournament selection will have a constant tournament_size of 4\n",
        "        selected_indices = selection_func(pop, pop_fitness, selection_size)\n",
        "\n",
        "        selection_set = pop[selected_indices]\n",
        "        selection_fitness = pop_fitness[selected_indices]\n",
        "\n",
        "        offspring = crossover(selection_set)\n",
        "        \n",
        "        # no mutation\n",
        "        if use_mutation:\n",
        "            offspring = mutation(offspring, 0.1)\n",
        "        \n",
        "        offspring_fitness = objective(offspring)\n",
        "        num_evaluations += len(offspring)\n",
        "\n",
        "        pop = np.vstack([selection_set, offspring])\n",
        "        pop_fitness = np.concatenate((selection_fitness, offspring_fitness))\n",
        "\n",
        "    best_fitness.append([num_evaluations, np.max(pop_fitness)])\n",
        "\n",
        "\n",
        "    return (pop, pop_fitness, best_fitness)\n",
        "\n",
        "\n",
        "\n",
        "def benchmark(\n",
        "    objective_func=\"Onemax\",\n",
        "    selection_func=\"truncation\",\n",
        "    n_trials=10,\n",
        "    num_parameters=100,\n",
        "    max_evaluations=100000,\n",
        "    num_individuals=8,\n",
        "    init_seed=student_id,\n",
        "    use_mutation=False\n",
        "):\n",
        "    assert objective_func in objective_funcs.keys()\n",
        "    assert selection_func in selection_funcs.keys()\n",
        "\n",
        "    res = [\n",
        "        genetic_algorithm(\n",
        "            objective=objective_funcs[objective_func],\n",
        "            selection_func=selection_funcs[selection_func],\n",
        "            num_individuals=num_individuals,\n",
        "            num_parameters=num_parameters,\n",
        "            max_evaluations=max_evaluations,\n",
        "            seed=init_seed+i,\n",
        "            use_mutation=use_mutation\n",
        "        )\n",
        "        for i in tqdm(range(n_trials))\n",
        "    ]\n",
        "\n",
        "    fits = []\n",
        "    evals = []\n",
        "\n",
        "\n",
        "    for i, (pop, pop_fitness, best_fitness) in enumerate(res):\n",
        "        best_fitness = np.array(best_fitness)\n",
        "        if i == 0:\n",
        "            evals = best_fitness[:,0]\n",
        "        fits.append(best_fitness[:,1])\n",
        "    \n",
        "    fits = np.array(fits)\n",
        "\n",
        "    avg = np.mean(fits, axis=0)\n",
        "    err = np.std(fits, axis=0)\n",
        "\n",
        "    return evals, avg, err\n",
        "\n",
        "\n"
      ]
    },
    {
      "cell_type": "markdown",
      "metadata": {},
      "source": [
        "# Results"
      ]
    },
    {
      "cell_type": "code",
      "execution_count": 114,
      "metadata": {},
      "outputs": [],
      "source": [
        "def test(\n",
        "    objective_func=\"Onemax\",\n",
        "    n_trials=10,\n",
        "    num_parameters=100,\n",
        "    max_evaluations=100000,\n",
        "    num_individuals=128,\n",
        "    use_mutation=False,\n",
        "    init_seed=student_id,\n",
        "    axes=None,\n",
        "    ):\n",
        "    for s in selection_funcs.keys():\n",
        "        print(objective_func, \"-\", s)\n",
        "        evals, avg, err = benchmark(\n",
        "            objective_func=objective_func,\n",
        "            selection_func=s,\n",
        "            n_trials=n_trials,\n",
        "            num_parameters=num_parameters,\n",
        "            max_evaluations=max_evaluations,\n",
        "            num_individuals=num_individuals,\n",
        "            init_seed=student_id,\n",
        "            use_mutation=use_mutation\n",
        "        )\n",
        "        axes.plot(evals, avg, label=s)\n",
        "        axes.fill_between(evals, avg+err, avg-err, alpha=0.1)\n",
        "\n",
        "    axes.set_xlabel(\"Evaluations\")\n",
        "    axes.set_ylabel(\"Fitness\")\n",
        "\n",
        "    axes.set_xlim(0, max_evaluations+num_individuals)\n",
        "    axes.set_title(f\"{objective_func} on {num_parameters} Dimensions\")\n",
        "    axes.legend();"
      ]
    },
    {
      "cell_type": "code",
      "execution_count": 57,
      "metadata": {},
      "outputs": [
        {
          "name": "stdout",
          "output_type": "stream",
          "text": [
            "dict_keys(['tournament', 'truncation', 'proportional'])\n",
            "dict_keys(['Onemax', 'LeadingOne', 'Concatenated Trap-5'])\n"
          ]
        }
      ],
      "source": [
        "print(selection_funcs.keys())\n",
        "print(objective_funcs.keys())"
      ]
    },
    {
      "cell_type": "code",
      "execution_count": 126,
      "metadata": {},
      "outputs": [
        {
          "name": "stdout",
          "output_type": "stream",
          "text": [
            "Onemax - tournament\n"
          ]
        },
        {
          "name": "stderr",
          "output_type": "stream",
          "text": [
            "0it [00:00, ?it/s]"
          ]
        }
      ],
      "source": [
        "fig, ax = plt.subplots(nrows=3, ncols=1, figsize=(8, 9))\n",
        "plt.subplots_adjust(hspace=0.5)\n",
        "test(\n",
        "    objective_func=\"Onemax\",\n",
        "    n_trials=10,\n",
        "    num_parameters=100,\n",
        "    max_evaluations=100000,\n",
        "    num_individuals=1024,\n",
        "    use_mutation=False,\n",
        "    init_seed=student_id,\n",
        "    axes=ax[0],\n",
        ")\n",
        "test(\n",
        "    objective_func=\"LeadingOne\",\n",
        "    n_trials=10,\n",
        "    num_parameters=10,\n",
        "    max_evaluations=100000,\n",
        "    num_individuals=1024,\n",
        "    use_mutation=False,\n",
        "    init_seed=student_id,\n",
        "    axes=ax[1],\n",
        ")\n",
        "\n",
        "test(\n",
        "    objective_func=\"Concatenated Trap-5\",\n",
        "    n_trials=10,\n",
        "    num_parameters=20,\n",
        "    max_evaluations=100000,\n",
        "    num_individuals=1024,\n",
        "    use_mutation=False,\n",
        "    init_seed=student_id,\n",
        "    axes=ax[2],\n",
        ")"
      ]
    },
    {
      "cell_type": "code",
      "execution_count": 100,
      "metadata": {},
      "outputs": [
        {
          "name": "stdout",
          "output_type": "stream",
          "text": [
            "Onemax - tournament\n"
          ]
        },
        {
          "name": "stderr",
          "output_type": "stream",
          "text": [
            "100%|██████████| 10/10 [00:28<00:00,  2.86s/it]\n"
          ]
        },
        {
          "name": "stdout",
          "output_type": "stream",
          "text": [
            "Onemax - truncation\n"
          ]
        },
        {
          "name": "stderr",
          "output_type": "stream",
          "text": [
            "100%|██████████| 10/10 [00:24<00:00,  2.41s/it]\n"
          ]
        },
        {
          "name": "stdout",
          "output_type": "stream",
          "text": [
            "Onemax - proportional\n"
          ]
        },
        {
          "name": "stderr",
          "output_type": "stream",
          "text": [
            "100%|██████████| 10/10 [00:40<00:00,  4.02s/it]\n"
          ]
        },
        {
          "data": {
            "image/png": "[encoded data removed]",
            "text/plain": [
              "<Figure size 800x900 with 3 Axes>"
            ]
          },
          "metadata": {},
          "output_type": "display_data"
        }
      ],
      "source": [
        "fig, ax = plt.subplots(nrows=3, ncols=1, figsize=(8, 9))\n",
        "plt.subplots_adjust(hspace=0.5)\n",
        "\n",
        "test(\n",
        "    objective_func=\"Onemax\",\n",
        "    n_trials=10,\n",
        "    num_parameters=100,\n",
        "    max_evaluations=100000,\n",
        "    num_individuals=8,\n",
        "    use_mutation=True,\n",
        "    init_seed=student_id,\n",
        "    axes=ax[2],\n",
        ")"
      ]
    }
  ],
  "metadata": {
    "anaconda-cloud": {},
    "colab": {
      "provenance": []
    },
    "kernelspec": {
      "display_name": "evo",
      "language": "python",
      "name": "python3"
    },
    "language_info": {
      "codemirror_mode": {
        "name": "ipython",
        "version": 3
      },
      "file_extension": ".py",
      "mimetype": "text/x-python",
      "name": "python",
      "nbconvert_exporter": "python",
      "pygments_lexer": "ipython3",
      "version": "3.11.8"
    }
  },
  "nbformat": 4,
  "nbformat_minor": 0
}
